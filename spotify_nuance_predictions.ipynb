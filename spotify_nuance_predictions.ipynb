{
  "nbformat": 4,
  "nbformat_minor": 0,
  "metadata": {
    "colab": {
      "name": "spotify_nuance_predictions.ipynb",
      "provenance": [],
      "collapsed_sections": [
        "O1TDDvAr-J-I",
        "pSuKZVgi-E0Q",
        "ci6gr5jjMisn",
        "_Q3_GrF9avGA",
        "s_eYQb9YD45R",
        "WqHs8wCQoirE"
      ],
      "toc_visible": true
    },
    "kernelspec": {
      "name": "python3",
      "display_name": "Python 3"
    },
    "language_info": {
      "name": "python"
    }
  },
  "cells": [
    {
      "cell_type": "markdown",
      "metadata": {
        "id": "0-eOfeTO4VBm"
      },
      "source": [
        "# **Spotify Music Nuance Classification (Multiclass)**\n",
        "\n",
        "## Milestone 2 Phase 1\n",
        "---\n",
        "> **Arief Luqmannurhakim**\n",
        "\n",
        ">> **Full Time Data-Science**\n",
        "\n",
        "> **Batch 001**\n",
        "\n",
        "Credit to Spotify Charts and [Kaggle](https://www.kaggle.com/sashankpillai/spotify-top-200-charts-20202021)\n"
      ]
    },
    {
      "cell_type": "markdown",
      "metadata": {
        "id": "uDpBLvrslEXO"
      },
      "source": [
        "# Download Datasets\n",
        "---"
      ]
    },
    {
      "cell_type": "code",
      "metadata": {
        "id": "mYr8vhILhkVW"
      },
      "source": [
        "! pip install -q kaggle"
      ],
      "execution_count": null,
      "outputs": []
    },
    {
      "cell_type": "code",
      "metadata": {
        "id": "9DWLboBTimPX"
      },
      "source": [
        "from google.colab import files\n",
        "files.upload()"
      ],
      "execution_count": null,
      "outputs": []
    },
    {
      "cell_type": "code",
      "metadata": {
        "id": "vCBkLarVioQD",
        "colab": {
          "base_uri": "https://localhost:8080/"
        },
        "outputId": "e7ecf1be-1602-4514-a3ec-987229417bf8"
      },
      "source": [
        "! mkdir ~/.kaggle\n",
        "! cp kaggle.json ~/.kaggle/\n",
        "! chmod 600 ~/.kaggle/kaggle.json\n",
        "! kaggle datasets list"
      ],
      "execution_count": null,
      "outputs": [
        {
          "output_type": "stream",
          "text": [
            "Warning: Looks like you're using an outdated API Version, please consider updating (server 1.5.12 / client 1.5.4)\n",
            "ref                                                         title                                              size  lastUpdated          downloadCount  \n",
            "----------------------------------------------------------  ------------------------------------------------  -----  -------------------  -------------  \n",
            "gpreda/reddit-vaccine-myths                                 Reddit Vaccine Myths                              233KB  2021-08-19 07:30:16          10911  \n",
            "crowww/a-large-scale-fish-dataset                           A Large Scale Fish Dataset                          3GB  2021-04-28 17:03:01           6673  \n",
            "imsparsh/musicnet-dataset                                   MusicNet Dataset                                   22GB  2021-02-18 14:12:19           2525  \n",
            "dhruvildave/wikibooks-dataset                               Wikibooks Dataset                                   2GB  2021-07-03 18:37:20           2680  \n",
            "promptcloud/careerbuilder-job-listing-2020                  Careerbuilder Job Listing 2020                     42MB  2021-03-05 06:59:52           1653  \n",
            "fatiimaezzahra/famous-iconic-women                          Famous Iconic Women                               838MB  2021-02-28 14:56:00           1150  \n",
            "mathurinache/twitter-edge-nodes                             Twitter Edge Nodes                                342MB  2021-03-08 06:43:04            793  \n",
            "nickuzmenkov/nih-chest-xrays-tfrecords                      NIH Chest X-rays TFRecords                         11GB  2021-03-09 04:49:23            966  \n",
            "alsgroup/end-als                                            End ALS Kaggle Challenge                           12GB  2021-04-08 12:16:37            845  \n",
            "simiotic/github-code-snippets                               GitHub Code Snippets                                7GB  2021-03-03 11:34:39            290  \n",
            "coloradokb/dandelionimages                                  DandelionImages                                     4GB  2021-02-19 20:03:47            719  \n",
            "mathurinache/the-lj-speech-dataset                          The LJ Speech Dataset                               3GB  2021-02-15 09:19:54            295  \n",
            "imsparsh/accentdb-core-extended                             AccentDB - Core & Extended                          6GB  2021-02-17 14:22:54            134  \n",
            "landrykezebou/lvzhdr-tone-mapping-benchmark-dataset-tmonet  LVZ-HDR Tone Mapping Benchmark Dataset (TMO-Net)   24GB  2021-03-01 05:03:40            175  \n",
            "stuartjames/lights                                          LightS: Light Specularity Dataset                  18GB  2021-02-18 14:32:26            124  \n",
            "nickuzmenkov/ranzcr-clip-kfold-tfrecords                    RANZCR CLiP KFold TFRecords                         2GB  2021-02-21 13:29:51            122  \n",
            "datasnaek/youtube-new                                       Trending YouTube Video Statistics                 201MB  2019-06-03 00:56:47         146842  \n",
            "zynicide/wine-reviews                                       Wine Reviews                                       51MB  2017-11-27 17:08:04         142155  \n",
            "residentmario/ramen-ratings                                 Ramen Ratings                                      40KB  2018-01-11 16:04:39          25883  \n",
            "datasnaek/chess                                             Chess Game Dataset (Lichess)                        3MB  2017-09-04 03:09:09          20880  \n"
          ],
          "name": "stdout"
        }
      ]
    },
    {
      "cell_type": "code",
      "metadata": {
        "colab": {
          "base_uri": "https://localhost:8080/"
        },
        "id": "cKN18sWHivWZ",
        "outputId": "cb0af675-5704-42fa-b8d9-2644e3a0da7b"
      },
      "source": [
        "!kaggle datasets download -d sashankpillai/spotify-top-200-charts-20202021 --unzip"
      ],
      "execution_count": null,
      "outputs": [
        {
          "output_type": "stream",
          "text": [
            "Downloading spotify-top-200-charts-20202021.zip to /content\n",
            "\r  0% 0.00/165k [00:00<?, ?B/s]\n",
            "\r100% 165k/165k [00:00<00:00, 63.2MB/s]\n"
          ],
          "name": "stdout"
        }
      ]
    },
    {
      "cell_type": "markdown",
      "metadata": {
        "id": "OED-aqxr3yYK"
      },
      "source": [
        "# Business Understanding\n",
        "---\n",
        "**All the songs that have been on the Top 200 Weekly (Global) charts of Spotify in 2020 & 2021.**\n",
        "\n",
        "> Create multi-class classification model to predict whether the song/track has happy , sad, or neutral nuance. \n",
        "\n",
        "> Recommendation with nuance or vibes of tracks\n",
        "\n",
        "> Acknowledgements-\n",
        "This dataset would not be possible without the help of spotifycharts.com and Spotipy Python Library"
      ]
    },
    {
      "cell_type": "markdown",
      "metadata": {
        "id": "O1TDDvAr-J-I"
      },
      "source": [
        "# Clean Dataset\n",
        "---"
      ]
    },
    {
      "cell_type": "code",
      "metadata": {
        "id": "ZaDLWa103vd-"
      },
      "source": [
        "import numpy as np\n",
        "import pandas as pd\n",
        "import seaborn as sns\n",
        "import matplotlib.pyplot as plt\n",
        "import pandas_profiling\n",
        "import ast\n",
        "%matplotlib inline"
      ],
      "execution_count": null,
      "outputs": []
    },
    {
      "cell_type": "code",
      "metadata": {
        "id": "9n-sKp8VKNdP"
      },
      "source": [
        "!pip install -U pandas-profiling"
      ],
      "execution_count": null,
      "outputs": []
    },
    {
      "cell_type": "code",
      "metadata": {
        "colab": {
          "base_uri": "https://localhost:8080/",
          "height": 511
        },
        "id": "VMs9yu2gF2nv",
        "outputId": "791b510b-d272-402c-972f-598bc15c3e7e"
      },
      "source": [
        "df = pd.read_csv('spotify_dataset.csv')\n",
        "df.head(3)"
      ],
      "execution_count": null,
      "outputs": [
        {
          "output_type": "execute_result",
          "data": {
            "text/html": [
              "<div>\n",
              "<style scoped>\n",
              "    .dataframe tbody tr th:only-of-type {\n",
              "        vertical-align: middle;\n",
              "    }\n",
              "\n",
              "    .dataframe tbody tr th {\n",
              "        vertical-align: top;\n",
              "    }\n",
              "\n",
              "    .dataframe thead th {\n",
              "        text-align: right;\n",
              "    }\n",
              "</style>\n",
              "<table border=\"1\" class=\"dataframe\">\n",
              "  <thead>\n",
              "    <tr style=\"text-align: right;\">\n",
              "      <th></th>\n",
              "      <th>Index</th>\n",
              "      <th>Highest Charting Position</th>\n",
              "      <th>Number of Times Charted</th>\n",
              "      <th>Week of Highest Charting</th>\n",
              "      <th>Song Name</th>\n",
              "      <th>Streams</th>\n",
              "      <th>Artist</th>\n",
              "      <th>Artist Followers</th>\n",
              "      <th>Song ID</th>\n",
              "      <th>Genre</th>\n",
              "      <th>Release Date</th>\n",
              "      <th>Weeks Charted</th>\n",
              "      <th>Popularity</th>\n",
              "      <th>Danceability</th>\n",
              "      <th>Energy</th>\n",
              "      <th>Loudness</th>\n",
              "      <th>Speechiness</th>\n",
              "      <th>Acousticness</th>\n",
              "      <th>Liveness</th>\n",
              "      <th>Tempo</th>\n",
              "      <th>Duration (ms)</th>\n",
              "      <th>Valence</th>\n",
              "      <th>Chord</th>\n",
              "    </tr>\n",
              "  </thead>\n",
              "  <tbody>\n",
              "    <tr>\n",
              "      <th>0</th>\n",
              "      <td>1</td>\n",
              "      <td>1</td>\n",
              "      <td>8</td>\n",
              "      <td>2021-07-23--2021-07-30</td>\n",
              "      <td>Beggin'</td>\n",
              "      <td>48,633,449</td>\n",
              "      <td>Måneskin</td>\n",
              "      <td>3377762</td>\n",
              "      <td>3Wrjm47oTz2sjIgck11l5e</td>\n",
              "      <td>['indie rock italiano', 'italian pop']</td>\n",
              "      <td>2017-12-08</td>\n",
              "      <td>2021-07-23--2021-07-30\\n2021-07-16--2021-07-23...</td>\n",
              "      <td>100</td>\n",
              "      <td>0.714</td>\n",
              "      <td>0.8</td>\n",
              "      <td>-4.808</td>\n",
              "      <td>0.0504</td>\n",
              "      <td>0.127</td>\n",
              "      <td>0.359</td>\n",
              "      <td>134.002</td>\n",
              "      <td>211560</td>\n",
              "      <td>0.589</td>\n",
              "      <td>B</td>\n",
              "    </tr>\n",
              "    <tr>\n",
              "      <th>1</th>\n",
              "      <td>2</td>\n",
              "      <td>2</td>\n",
              "      <td>3</td>\n",
              "      <td>2021-07-23--2021-07-30</td>\n",
              "      <td>STAY (with Justin Bieber)</td>\n",
              "      <td>47,248,719</td>\n",
              "      <td>The Kid LAROI</td>\n",
              "      <td>2230022</td>\n",
              "      <td>5HCyWlXZPP0y6Gqq8TgA20</td>\n",
              "      <td>['australian hip hop']</td>\n",
              "      <td>2021-07-09</td>\n",
              "      <td>2021-07-23--2021-07-30\\n2021-07-16--2021-07-23...</td>\n",
              "      <td>99</td>\n",
              "      <td>0.591</td>\n",
              "      <td>0.764</td>\n",
              "      <td>-5.484</td>\n",
              "      <td>0.0483</td>\n",
              "      <td>0.0383</td>\n",
              "      <td>0.103</td>\n",
              "      <td>169.928</td>\n",
              "      <td>141806</td>\n",
              "      <td>0.478</td>\n",
              "      <td>C#/Db</td>\n",
              "    </tr>\n",
              "    <tr>\n",
              "      <th>2</th>\n",
              "      <td>3</td>\n",
              "      <td>1</td>\n",
              "      <td>11</td>\n",
              "      <td>2021-06-25--2021-07-02</td>\n",
              "      <td>good 4 u</td>\n",
              "      <td>40,162,559</td>\n",
              "      <td>Olivia Rodrigo</td>\n",
              "      <td>6266514</td>\n",
              "      <td>4ZtFanR9U6ndgddUvNcjcG</td>\n",
              "      <td>['pop']</td>\n",
              "      <td>2021-05-21</td>\n",
              "      <td>2021-07-23--2021-07-30\\n2021-07-16--2021-07-23...</td>\n",
              "      <td>99</td>\n",
              "      <td>0.563</td>\n",
              "      <td>0.664</td>\n",
              "      <td>-5.044</td>\n",
              "      <td>0.154</td>\n",
              "      <td>0.335</td>\n",
              "      <td>0.0849</td>\n",
              "      <td>166.928</td>\n",
              "      <td>178147</td>\n",
              "      <td>0.688</td>\n",
              "      <td>A</td>\n",
              "    </tr>\n",
              "  </tbody>\n",
              "</table>\n",
              "</div>"
            ],
            "text/plain": [
              "   Index  Highest Charting Position  ...  Valence  Chord\n",
              "0      1                          1  ...    0.589      B\n",
              "1      2                          2  ...    0.478  C#/Db\n",
              "2      3                          1  ...    0.688      A\n",
              "\n",
              "[3 rows x 23 columns]"
            ]
          },
          "metadata": {},
          "execution_count": 51
        }
      ]
    },
    {
      "cell_type": "code",
      "metadata": {
        "colab": {
          "base_uri": "https://localhost:8080/"
        },
        "id": "d574WdN_F-rg",
        "outputId": "bf1914ca-0d54-4325-d0e8-66a4d51536c7"
      },
      "source": [
        "df.info()"
      ],
      "execution_count": null,
      "outputs": [
        {
          "output_type": "stream",
          "text": [
            "<class 'pandas.core.frame.DataFrame'>\n",
            "RangeIndex: 1556 entries, 0 to 1555\n",
            "Data columns (total 23 columns):\n",
            " #   Column                     Non-Null Count  Dtype \n",
            "---  ------                     --------------  ----- \n",
            " 0   Index                      1556 non-null   int64 \n",
            " 1   Highest Charting Position  1556 non-null   int64 \n",
            " 2   Number of Times Charted    1556 non-null   int64 \n",
            " 3   Week of Highest Charting   1556 non-null   object\n",
            " 4   Song Name                  1556 non-null   object\n",
            " 5   Streams                    1556 non-null   object\n",
            " 6   Artist                     1556 non-null   object\n",
            " 7   Artist Followers           1556 non-null   object\n",
            " 8   Song ID                    1556 non-null   object\n",
            " 9   Genre                      1556 non-null   object\n",
            " 10  Release Date               1556 non-null   object\n",
            " 11  Weeks Charted              1556 non-null   object\n",
            " 12  Popularity                 1556 non-null   object\n",
            " 13  Danceability               1556 non-null   object\n",
            " 14  Energy                     1556 non-null   object\n",
            " 15  Loudness                   1556 non-null   object\n",
            " 16  Speechiness                1556 non-null   object\n",
            " 17  Acousticness               1556 non-null   object\n",
            " 18  Liveness                   1556 non-null   object\n",
            " 19  Tempo                      1556 non-null   object\n",
            " 20  Duration (ms)              1556 non-null   object\n",
            " 21  Valence                    1556 non-null   object\n",
            " 22  Chord                      1556 non-null   object\n",
            "dtypes: int64(3), object(20)\n",
            "memory usage: 279.7+ KB\n"
          ],
          "name": "stdout"
        }
      ]
    },
    {
      "cell_type": "markdown",
      "metadata": {
        "id": "pzT2Ul8UmFRg"
      },
      "source": [
        "---\n",
        "\n",
        "**Handle the unknown missing value**\n",
        "\n",
        "> I've already check genre value and surprisingly it contain missing value in form of 'space' or ' ' , truly unexpected since these kind of NaN were invisible and hard to detect. Here we'll handle it by checking the error using literal_eval function because Genre column is essentially a List. "
      ]
    },
    {
      "cell_type": "code",
      "metadata": {
        "colab": {
          "base_uri": "https://localhost:8080/"
        },
        "id": "yhJyMUFWb2HY",
        "outputId": "d1455851-e83c-4fd4-a4d3-951d5a10009b"
      },
      "source": [
        "df_clean = df.copy()\n",
        "df_clean.set_index('Index', inplace=True)\n",
        "df_clean.Genre = df_clean.Genre.apply(lambda x: x.replace('[]', '[\"other\"]'))\n",
        "for i in df_clean['Genre']:\n",
        "  try:\n",
        "    ast.literal_eval(i)\n",
        "  except BaseException as err:\n",
        "    print('err :{}r'.format(i))\n",
        "    print(err)\n"
      ],
      "execution_count": null,
      "outputs": [
        {
          "output_type": "stream",
          "text": [
            "err : r\n",
            "unexpected EOF while parsing (<unknown>, line 1)\n",
            "err : r\n",
            "unexpected EOF while parsing (<unknown>, line 1)\n",
            "err : r\n",
            "unexpected EOF while parsing (<unknown>, line 1)\n",
            "err : r\n",
            "unexpected EOF while parsing (<unknown>, line 1)\n",
            "err : r\n",
            "unexpected EOF while parsing (<unknown>, line 1)\n",
            "err : r\n",
            "unexpected EOF while parsing (<unknown>, line 1)\n",
            "err : r\n",
            "unexpected EOF while parsing (<unknown>, line 1)\n",
            "err : r\n",
            "unexpected EOF while parsing (<unknown>, line 1)\n",
            "err : r\n",
            "unexpected EOF while parsing (<unknown>, line 1)\n",
            "err : r\n",
            "unexpected EOF while parsing (<unknown>, line 1)\n",
            "err : r\n",
            "unexpected EOF while parsing (<unknown>, line 1)\n"
          ],
          "name": "stdout"
        }
      ]
    },
    {
      "cell_type": "code",
      "metadata": {
        "id": "SG0XICbDmD0j"
      },
      "source": [
        "idx_nan = df_clean.loc[df_clean['Genre'] == ' ', 'Genre'].index\n",
        "df_clean.drop(idx_nan, inplace=True)"
      ],
      "execution_count": null,
      "outputs": []
    },
    {
      "cell_type": "code",
      "metadata": {
        "id": "jzYSJeRwnZCc"
      },
      "source": [
        "for i in df_clean['Genre']:\n",
        "  try:\n",
        "    ast.literal_eval(i)\n",
        "  except BaseException as err:\n",
        "    print('err :{}r'.format(i))\n",
        "    print(err)"
      ],
      "execution_count": null,
      "outputs": []
    },
    {
      "cell_type": "code",
      "metadata": {
        "colab": {
          "base_uri": "https://localhost:8080/",
          "height": 541
        },
        "id": "JxQ3J1-Onibr",
        "outputId": "61d14fc7-4123-43d7-fb24-b23d0ad15dbf"
      },
      "source": [
        "df_clean['Genre'] = df_clean['Genre'].apply(ast.literal_eval)\n",
        "df_clean.head(3)"
      ],
      "execution_count": null,
      "outputs": [
        {
          "output_type": "execute_result",
          "data": {
            "text/html": [
              "<div>\n",
              "<style scoped>\n",
              "    .dataframe tbody tr th:only-of-type {\n",
              "        vertical-align: middle;\n",
              "    }\n",
              "\n",
              "    .dataframe tbody tr th {\n",
              "        vertical-align: top;\n",
              "    }\n",
              "\n",
              "    .dataframe thead th {\n",
              "        text-align: right;\n",
              "    }\n",
              "</style>\n",
              "<table border=\"1\" class=\"dataframe\">\n",
              "  <thead>\n",
              "    <tr style=\"text-align: right;\">\n",
              "      <th></th>\n",
              "      <th>Highest Charting Position</th>\n",
              "      <th>Number of Times Charted</th>\n",
              "      <th>Week of Highest Charting</th>\n",
              "      <th>Song Name</th>\n",
              "      <th>Streams</th>\n",
              "      <th>Artist</th>\n",
              "      <th>Artist Followers</th>\n",
              "      <th>Song ID</th>\n",
              "      <th>Genre</th>\n",
              "      <th>Release Date</th>\n",
              "      <th>Weeks Charted</th>\n",
              "      <th>Popularity</th>\n",
              "      <th>Danceability</th>\n",
              "      <th>Energy</th>\n",
              "      <th>Loudness</th>\n",
              "      <th>Speechiness</th>\n",
              "      <th>Acousticness</th>\n",
              "      <th>Liveness</th>\n",
              "      <th>Tempo</th>\n",
              "      <th>Duration (ms)</th>\n",
              "      <th>Valence</th>\n",
              "      <th>Chord</th>\n",
              "    </tr>\n",
              "    <tr>\n",
              "      <th>Index</th>\n",
              "      <th></th>\n",
              "      <th></th>\n",
              "      <th></th>\n",
              "      <th></th>\n",
              "      <th></th>\n",
              "      <th></th>\n",
              "      <th></th>\n",
              "      <th></th>\n",
              "      <th></th>\n",
              "      <th></th>\n",
              "      <th></th>\n",
              "      <th></th>\n",
              "      <th></th>\n",
              "      <th></th>\n",
              "      <th></th>\n",
              "      <th></th>\n",
              "      <th></th>\n",
              "      <th></th>\n",
              "      <th></th>\n",
              "      <th></th>\n",
              "      <th></th>\n",
              "      <th></th>\n",
              "    </tr>\n",
              "  </thead>\n",
              "  <tbody>\n",
              "    <tr>\n",
              "      <th>1</th>\n",
              "      <td>1</td>\n",
              "      <td>8</td>\n",
              "      <td>2021-07-23--2021-07-30</td>\n",
              "      <td>Beggin'</td>\n",
              "      <td>48,633,449</td>\n",
              "      <td>Måneskin</td>\n",
              "      <td>3377762</td>\n",
              "      <td>3Wrjm47oTz2sjIgck11l5e</td>\n",
              "      <td>[indie rock italiano, italian pop]</td>\n",
              "      <td>2017-12-08</td>\n",
              "      <td>2021-07-23--2021-07-30\\n2021-07-16--2021-07-23...</td>\n",
              "      <td>100</td>\n",
              "      <td>0.714</td>\n",
              "      <td>0.8</td>\n",
              "      <td>-4.808</td>\n",
              "      <td>0.0504</td>\n",
              "      <td>0.127</td>\n",
              "      <td>0.359</td>\n",
              "      <td>134.002</td>\n",
              "      <td>211560</td>\n",
              "      <td>0.589</td>\n",
              "      <td>B</td>\n",
              "    </tr>\n",
              "    <tr>\n",
              "      <th>2</th>\n",
              "      <td>2</td>\n",
              "      <td>3</td>\n",
              "      <td>2021-07-23--2021-07-30</td>\n",
              "      <td>STAY (with Justin Bieber)</td>\n",
              "      <td>47,248,719</td>\n",
              "      <td>The Kid LAROI</td>\n",
              "      <td>2230022</td>\n",
              "      <td>5HCyWlXZPP0y6Gqq8TgA20</td>\n",
              "      <td>[australian hip hop]</td>\n",
              "      <td>2021-07-09</td>\n",
              "      <td>2021-07-23--2021-07-30\\n2021-07-16--2021-07-23...</td>\n",
              "      <td>99</td>\n",
              "      <td>0.591</td>\n",
              "      <td>0.764</td>\n",
              "      <td>-5.484</td>\n",
              "      <td>0.0483</td>\n",
              "      <td>0.0383</td>\n",
              "      <td>0.103</td>\n",
              "      <td>169.928</td>\n",
              "      <td>141806</td>\n",
              "      <td>0.478</td>\n",
              "      <td>C#/Db</td>\n",
              "    </tr>\n",
              "    <tr>\n",
              "      <th>3</th>\n",
              "      <td>1</td>\n",
              "      <td>11</td>\n",
              "      <td>2021-06-25--2021-07-02</td>\n",
              "      <td>good 4 u</td>\n",
              "      <td>40,162,559</td>\n",
              "      <td>Olivia Rodrigo</td>\n",
              "      <td>6266514</td>\n",
              "      <td>4ZtFanR9U6ndgddUvNcjcG</td>\n",
              "      <td>[pop]</td>\n",
              "      <td>2021-05-21</td>\n",
              "      <td>2021-07-23--2021-07-30\\n2021-07-16--2021-07-23...</td>\n",
              "      <td>99</td>\n",
              "      <td>0.563</td>\n",
              "      <td>0.664</td>\n",
              "      <td>-5.044</td>\n",
              "      <td>0.154</td>\n",
              "      <td>0.335</td>\n",
              "      <td>0.0849</td>\n",
              "      <td>166.928</td>\n",
              "      <td>178147</td>\n",
              "      <td>0.688</td>\n",
              "      <td>A</td>\n",
              "    </tr>\n",
              "  </tbody>\n",
              "</table>\n",
              "</div>"
            ],
            "text/plain": [
              "       Highest Charting Position  Number of Times Charted  ... Valence  Chord\n",
              "Index                                                      ...               \n",
              "1                              1                        8  ...   0.589      B\n",
              "2                              2                        3  ...   0.478  C#/Db\n",
              "3                              1                       11  ...   0.688      A\n",
              "\n",
              "[3 rows x 22 columns]"
            ]
          },
          "metadata": {},
          "execution_count": 180
        }
      ]
    },
    {
      "cell_type": "markdown",
      "metadata": {
        "id": "7WwP-xRLKBj-"
      },
      "source": [
        "**We need to address the issues for column type. Based on table head above these are the column we need to change its type from object to numeric or float**:\n",
        "1. Artist Followers\n",
        "2. Streams \n",
        "3. Popularity\t\n",
        "4. Danceability\t\n",
        "5. Energy\t\n",
        "6. Loudness\t\n",
        "7. Speechiness\t\n",
        "8. Acousticness\t\n",
        "9. Liveness\t\n",
        "10. Tempo\t\n",
        "11. Duration (ms)\t\n",
        "12. Valence\n",
        "\n",
        "---\n",
        "\n"
      ]
    },
    {
      "cell_type": "code",
      "metadata": {
        "colab": {
          "base_uri": "https://localhost:8080/"
        },
        "id": "RhNTGTLhIIRK",
        "outputId": "0f312394-6b6c-4ea9-95b8-ec573d4d54f7"
      },
      "source": [
        "col = ['Artist Followers',\n",
        "       'Streams',\n",
        "       'Popularity',\n",
        "       'Danceability',\n",
        "       'Energy',\n",
        "       'Loudness',\n",
        "       'Speechiness',\n",
        "       'Acousticness',\n",
        "       'Liveness',\n",
        "       'Tempo',\n",
        "       'Duration (ms)',\n",
        "       'Valence']\n",
        "\n",
        "for i in col :\n",
        "  if i == 'Streams' or i == 'Artist Followers':\n",
        "    df_clean[i] = df_clean[i].apply(lambda x: x.replace(',', ''))\n",
        "    df_clean[i] = df_clean[i].astype('int32')\n",
        "  \n",
        "  else: \n",
        "    df_clean[i] = df_clean[i].astype('float32')\n",
        "\n",
        "df_clean.info()"
      ],
      "execution_count": null,
      "outputs": [
        {
          "output_type": "stream",
          "text": [
            "<class 'pandas.core.frame.DataFrame'>\n",
            "Int64Index: 1545 entries, 1 to 1556\n",
            "Data columns (total 22 columns):\n",
            " #   Column                     Non-Null Count  Dtype  \n",
            "---  ------                     --------------  -----  \n",
            " 0   Highest Charting Position  1545 non-null   int64  \n",
            " 1   Number of Times Charted    1545 non-null   int64  \n",
            " 2   Week of Highest Charting   1545 non-null   object \n",
            " 3   Song Name                  1545 non-null   object \n",
            " 4   Streams                    1545 non-null   int32  \n",
            " 5   Artist                     1545 non-null   object \n",
            " 6   Artist Followers           1545 non-null   int32  \n",
            " 7   Song ID                    1545 non-null   object \n",
            " 8   Genre                      1545 non-null   object \n",
            " 9   Release Date               1545 non-null   object \n",
            " 10  Weeks Charted              1545 non-null   object \n",
            " 11  Popularity                 1545 non-null   float32\n",
            " 12  Danceability               1545 non-null   float32\n",
            " 13  Energy                     1545 non-null   float32\n",
            " 14  Loudness                   1545 non-null   float32\n",
            " 15  Speechiness                1545 non-null   float32\n",
            " 16  Acousticness               1545 non-null   float32\n",
            " 17  Liveness                   1545 non-null   float32\n",
            " 18  Tempo                      1545 non-null   float32\n",
            " 19  Duration (ms)              1545 non-null   float32\n",
            " 20  Valence                    1545 non-null   float32\n",
            " 21  Chord                      1545 non-null   object \n",
            "dtypes: float32(10), int32(2), int64(2), object(8)\n",
            "memory usage: 205.2+ KB\n"
          ],
          "name": "stdout"
        }
      ]
    },
    {
      "cell_type": "markdown",
      "metadata": {
        "id": "pSuKZVgi-E0Q"
      },
      "source": [
        "# Data Exploration\n",
        "---\n",
        "\n",
        "\n",
        "Var | Desc\n",
        "--- | ---\n",
        "Highest Charting Position | The highest position that the song has been on in the Spotify Top 200 Weekly Global Charts in 2020 & 2021.\n",
        "Number of Times Charted | The number of times that the song has been on in the Spotify Top 200 Weekly Global Charts in 2020 & 2021.\n",
        "Week of Highest Charting | The week when the song had the Highest Position in the Spotify Top 200 Weekly Global Charts in 2020 & 2021.\n",
        "Song Name | Name of the song that has been on in the Spotify Top 200 Weekly Global Charts in 2020 & 2021.\n",
        "Song iD | The song ID provided by Spotify (unique to each song).\n",
        "Streams | Approximate number of streams the song has.\n",
        "Artist | The main artist/ artists involved in making the song.\n",
        "Artist Followers | The number of followers the main artist has on Spotify.\n",
        "Genre | The genres the song belongs to.\n",
        "Release Date | The initial date that the song was released.\n",
        "Weeks Charted | The weeks that the song has been on in the Spotify Top 200 Weekly Global Charts in 2020 & 2021.\n",
        "Popularity |The popularity of the track. The value will be between 0 and 100, with 100 being the most popular.\n",
        "Danceability | Danceability describes how suitable a track is for dancing based on a combination of musical elements including tempo, rhythm stability, beat strength, and overall regularity. A value of 0.0 is least danceable and 1.0 is most danceable.\n",
        "Acousticness | A measure from 0.0 to 1.0 of whether the track is acoustic.\n",
        "Energy | Energy is a measure from 0.0 to 1.0 and represents a perceptual measure of intensity and activity. Typically, energetic tracks feel fast, loud, and noisy.\n",
        "Instrumentalness | Predicts whether a track contains no vocals. The closer the instrumentalness value is to 1.0, the greater likelihood the track contains no vocal content.\n",
        "Liveness | Detects the presence of an audience in the recording. Higher liveness values represent an increased probability that the track was performed live.\n",
        "Loudness | The overall loudness of a track in decibels (dB). Loudness values are averaged across the entire track. Values typical range between -60 and 0 db.\n",
        "Speechiness | Speechiness detects the presence of spoken words in a track. The more exclusively speech-like the recording (e.g. talk show, audio book, poetry), the closer to 1.0 the attribute value.\n",
        "Tempo | The overall estimated tempo of a track in beats per minute (BPM). In musical terminology, tempo is the speed or pace of a given piece and derives directly from the average beat duration.\n",
        "Valence | A measure from 0.0 to 1.0 describing the musical positiveness conveyed by a track. Tracks with high valence sound more positive (e.g. happy, cheerful, euphoric), while tracks with low valence sound more negative (e.g. sad, depressed, angry).\n",
        "Chord | The main chord of the song instrumental.\n",
        "\n",
        "---"
      ]
    },
    {
      "cell_type": "code",
      "metadata": {
        "colab": {
          "base_uri": "https://localhost:8080/",
          "height": 541
        },
        "id": "8cVBm6u5_mnV",
        "outputId": "0d09ead2-b928-442b-e68a-e210b9c2327e"
      },
      "source": [
        "df_clean.head(3)"
      ],
      "execution_count": null,
      "outputs": [
        {
          "output_type": "execute_result",
          "data": {
            "text/html": [
              "<div>\n",
              "<style scoped>\n",
              "    .dataframe tbody tr th:only-of-type {\n",
              "        vertical-align: middle;\n",
              "    }\n",
              "\n",
              "    .dataframe tbody tr th {\n",
              "        vertical-align: top;\n",
              "    }\n",
              "\n",
              "    .dataframe thead th {\n",
              "        text-align: right;\n",
              "    }\n",
              "</style>\n",
              "<table border=\"1\" class=\"dataframe\">\n",
              "  <thead>\n",
              "    <tr style=\"text-align: right;\">\n",
              "      <th></th>\n",
              "      <th>Highest Charting Position</th>\n",
              "      <th>Number of Times Charted</th>\n",
              "      <th>Week of Highest Charting</th>\n",
              "      <th>Song Name</th>\n",
              "      <th>Streams</th>\n",
              "      <th>Artist</th>\n",
              "      <th>Artist Followers</th>\n",
              "      <th>Song ID</th>\n",
              "      <th>Genre</th>\n",
              "      <th>Release Date</th>\n",
              "      <th>Weeks Charted</th>\n",
              "      <th>Popularity</th>\n",
              "      <th>Danceability</th>\n",
              "      <th>Energy</th>\n",
              "      <th>Loudness</th>\n",
              "      <th>Speechiness</th>\n",
              "      <th>Acousticness</th>\n",
              "      <th>Liveness</th>\n",
              "      <th>Tempo</th>\n",
              "      <th>Duration (ms)</th>\n",
              "      <th>Valence</th>\n",
              "      <th>Chord</th>\n",
              "    </tr>\n",
              "    <tr>\n",
              "      <th>Index</th>\n",
              "      <th></th>\n",
              "      <th></th>\n",
              "      <th></th>\n",
              "      <th></th>\n",
              "      <th></th>\n",
              "      <th></th>\n",
              "      <th></th>\n",
              "      <th></th>\n",
              "      <th></th>\n",
              "      <th></th>\n",
              "      <th></th>\n",
              "      <th></th>\n",
              "      <th></th>\n",
              "      <th></th>\n",
              "      <th></th>\n",
              "      <th></th>\n",
              "      <th></th>\n",
              "      <th></th>\n",
              "      <th></th>\n",
              "      <th></th>\n",
              "      <th></th>\n",
              "      <th></th>\n",
              "    </tr>\n",
              "  </thead>\n",
              "  <tbody>\n",
              "    <tr>\n",
              "      <th>1</th>\n",
              "      <td>1</td>\n",
              "      <td>8</td>\n",
              "      <td>2021-07-23--2021-07-30</td>\n",
              "      <td>Beggin'</td>\n",
              "      <td>48633449</td>\n",
              "      <td>Måneskin</td>\n",
              "      <td>3377762</td>\n",
              "      <td>3Wrjm47oTz2sjIgck11l5e</td>\n",
              "      <td>[indie rock italiano, italian pop]</td>\n",
              "      <td>2017-12-08</td>\n",
              "      <td>2021-07-23--2021-07-30\\n2021-07-16--2021-07-23...</td>\n",
              "      <td>100.0</td>\n",
              "      <td>0.714</td>\n",
              "      <td>0.800</td>\n",
              "      <td>-4.808</td>\n",
              "      <td>0.0504</td>\n",
              "      <td>0.1270</td>\n",
              "      <td>0.3590</td>\n",
              "      <td>134.001999</td>\n",
              "      <td>211560.0</td>\n",
              "      <td>0.589</td>\n",
              "      <td>B</td>\n",
              "    </tr>\n",
              "    <tr>\n",
              "      <th>2</th>\n",
              "      <td>2</td>\n",
              "      <td>3</td>\n",
              "      <td>2021-07-23--2021-07-30</td>\n",
              "      <td>STAY (with Justin Bieber)</td>\n",
              "      <td>47248719</td>\n",
              "      <td>The Kid LAROI</td>\n",
              "      <td>2230022</td>\n",
              "      <td>5HCyWlXZPP0y6Gqq8TgA20</td>\n",
              "      <td>[australian hip hop]</td>\n",
              "      <td>2021-07-09</td>\n",
              "      <td>2021-07-23--2021-07-30\\n2021-07-16--2021-07-23...</td>\n",
              "      <td>99.0</td>\n",
              "      <td>0.591</td>\n",
              "      <td>0.764</td>\n",
              "      <td>-5.484</td>\n",
              "      <td>0.0483</td>\n",
              "      <td>0.0383</td>\n",
              "      <td>0.1030</td>\n",
              "      <td>169.927994</td>\n",
              "      <td>141806.0</td>\n",
              "      <td>0.478</td>\n",
              "      <td>C#/Db</td>\n",
              "    </tr>\n",
              "    <tr>\n",
              "      <th>3</th>\n",
              "      <td>1</td>\n",
              "      <td>11</td>\n",
              "      <td>2021-06-25--2021-07-02</td>\n",
              "      <td>good 4 u</td>\n",
              "      <td>40162559</td>\n",
              "      <td>Olivia Rodrigo</td>\n",
              "      <td>6266514</td>\n",
              "      <td>4ZtFanR9U6ndgddUvNcjcG</td>\n",
              "      <td>[pop]</td>\n",
              "      <td>2021-05-21</td>\n",
              "      <td>2021-07-23--2021-07-30\\n2021-07-16--2021-07-23...</td>\n",
              "      <td>99.0</td>\n",
              "      <td>0.563</td>\n",
              "      <td>0.664</td>\n",
              "      <td>-5.044</td>\n",
              "      <td>0.1540</td>\n",
              "      <td>0.3350</td>\n",
              "      <td>0.0849</td>\n",
              "      <td>166.927994</td>\n",
              "      <td>178147.0</td>\n",
              "      <td>0.688</td>\n",
              "      <td>A</td>\n",
              "    </tr>\n",
              "  </tbody>\n",
              "</table>\n",
              "</div>"
            ],
            "text/plain": [
              "       Highest Charting Position  Number of Times Charted  ... Valence  Chord\n",
              "Index                                                      ...               \n",
              "1                              1                        8  ...   0.589      B\n",
              "2                              2                        3  ...   0.478  C#/Db\n",
              "3                              1                       11  ...   0.688      A\n",
              "\n",
              "[3 rows x 22 columns]"
            ]
          },
          "metadata": {},
          "execution_count": 182
        }
      ]
    },
    {
      "cell_type": "markdown",
      "metadata": {
        "id": "jnoD5Da4jGOS"
      },
      "source": [
        "# Top 10 Genre\n",
        "---"
      ]
    },
    {
      "cell_type": "code",
      "metadata": {
        "colab": {
          "base_uri": "https://localhost:8080/",
          "height": 633
        },
        "id": "N3zvNIuSvEIa",
        "outputId": "a029c8a9-8db1-4c99-eb13-5636bab30aa1"
      },
      "source": [
        "def extract_list(df: pd.Series):\n",
        "  list_genre = [x for i in df_clean.Genre for x in i]\n",
        "  return pd.Series(list_genre)\n",
        "\n",
        "\n",
        "\n",
        "with sns.axes_style('darkgrid'):\n",
        "  fig, ax = plt.subplots(figsize=(15,10))\n",
        "\n",
        "  sns.barplot(x = extract_list(df_clean.Genre).value_counts().nlargest(10).index,\n",
        "              y = extract_list(df_clean.Genre).value_counts().nlargest(10).values)\n",
        "  plt.title(\" Top 10 Genre in Spotify Playlist \")\n",
        "  plt.ylabel(\" Count \", fontsize=18)\n",
        "  plt.xlabel(\" Genre \", fontsize=18)\n",
        "  plt.xticks(fontsize=12)\n",
        "  plt.show()\n"
      ],
      "execution_count": null,
      "outputs": [
        {
          "output_type": "display_data",
          "data": {
            "image/png": "[encoded data removed]",
            "text/plain": [
              "<Figure size 1080x720 with 1 Axes>"
            ]
          },
          "metadata": {}
        }
      ]
    },
    {
      "cell_type": "markdown",
      "metadata": {
        "id": "f7OKimBGLIX1"
      },
      "source": [
        "**Pop is the most popular genre in Spotify followed by rap**\n",
        "\n",
        "---"
      ]
    },
    {
      "cell_type": "markdown",
      "metadata": {
        "id": "zWFQjoR7B_cK"
      },
      "source": [
        "[Check Var/Columns Details](#scrollTo=pSuKZVgi-E0Q&line=5&uniqifier=1)"
      ]
    },
    {
      "cell_type": "markdown",
      "metadata": {
        "id": "KyzVBCXgLarz"
      },
      "source": [
        "Overview all dataset with padnas profiling for quick analysis"
      ]
    },
    {
      "cell_type": "code",
      "metadata": {
        "id": "QLf6au3DOBKD"
      },
      "source": [
        "pandas_profiling.ProfileReport(df_clean)"
      ],
      "execution_count": null,
      "outputs": []
    },
    {
      "cell_type": "code",
      "metadata": {
        "colab": {
          "base_uri": "https://localhost:8080/",
          "height": 637
        },
        "id": "zJJN6zL6DSmt",
        "outputId": "9812b93e-5ebe-4fcf-e99d-6a15245c686c"
      },
      "source": [
        "\n",
        "with sns.axes_style('whitegrid'):\n",
        "  fig, ax = plt.subplots(figsize=(15,10))\n",
        "\n",
        "  sns.histplot(df_clean['Highest Charting Position'], color='g')\n",
        "  plt.title(\" Weekly Chart Distribution in Spotify \", fontsize=20)\n",
        "  plt.ylabel(\" Frequency \", fontsize=18)\n",
        "  plt.xlabel(\" Charting Position \", fontsize=18)\n",
        "  plt.xticks(fontsize=12)\n",
        "  plt.show()\n"
      ],
      "execution_count": null,
      "outputs": [
        {
          "output_type": "display_data",
          "data": {
            "image/png": "[encoded data removed]",
            "text/plain": [
              "<Figure size 1080x720 with 1 Axes>"
            ]
          },
          "metadata": {}
        }
      ]
    },
    {
      "cell_type": "markdown",
      "metadata": {
        "id": "Qy8pSw2EFOR9"
      },
      "source": [
        "**This dataset domninated with song that get 1st - 20th chart position in Spotify weekly chart**\n",
        "\n",
        "---"
      ]
    },
    {
      "cell_type": "markdown",
      "metadata": {
        "id": "8lX9BSs1jbhI"
      },
      "source": [
        "# Popular Song\n",
        "---"
      ]
    },
    {
      "cell_type": "code",
      "metadata": {
        "colab": {
          "base_uri": "https://localhost:8080/",
          "height": 637
        },
        "id": "YJ-03MwlC7ZN",
        "outputId": "96469250-96d4-436f-fc3d-bf9002914bd8"
      },
      "source": [
        "with sns.axes_style('whitegrid'):\n",
        "  fig, ax = plt.subplots(figsize=(15,10))\n",
        "\n",
        "  sns.histplot(df_clean['Popularity'], color='g')\n",
        "  plt.title(\" Song Popularity in Spotify \", fontsize=20)\n",
        "  plt.ylabel(\" Frequency \", fontsize=18)\n",
        "  plt.xlabel(\" Popularity \", fontsize=18)\n",
        "  plt.xticks(fontsize=12)\n",
        "  plt.show()"
      ],
      "execution_count": null,
      "outputs": [
        {
          "output_type": "display_data",
          "data": {
            "image/png": "[encoded data removed]",
            "text/plain": [
              "<Figure size 1080x720 with 1 Axes>"
            ]
          },
          "metadata": {}
        }
      ]
    },
    {
      "cell_type": "markdown",
      "metadata": {
        "id": "V25fZX2PGn1C"
      },
      "source": [
        "**Most of the song are quiet popular with few that seems not so popular and several songs reach 100 point of popularity in Spotify. Lets find out which song is so popular**\n",
        "\n",
        "---"
      ]
    },
    {
      "cell_type": "code",
      "metadata": {
        "colab": {
          "base_uri": "https://localhost:8080/",
          "height": 385
        },
        "id": "SZFiyoGRJi-V",
        "outputId": "f65f609a-cc3d-4915-d394-7afdb9f77271"
      },
      "source": [
        "pop = df_clean[['Popularity', 'Song Name', 'Artist', 'Artist Followers']].nlargest(10, 'Popularity')\n",
        "pop"
      ],
      "execution_count": null,
      "outputs": [
        {
          "output_type": "execute_result",
          "data": {
            "text/html": [
              "<div>\n",
              "<style scoped>\n",
              "    .dataframe tbody tr th:only-of-type {\n",
              "        vertical-align: middle;\n",
              "    }\n",
              "\n",
              "    .dataframe tbody tr th {\n",
              "        vertical-align: top;\n",
              "    }\n",
              "\n",
              "    .dataframe thead th {\n",
              "        text-align: right;\n",
              "    }\n",
              "</style>\n",
              "<table border=\"1\" class=\"dataframe\">\n",
              "  <thead>\n",
              "    <tr style=\"text-align: right;\">\n",
              "      <th></th>\n",
              "      <th>Popularity</th>\n",
              "      <th>Song Name</th>\n",
              "      <th>Artist</th>\n",
              "      <th>Artist Followers</th>\n",
              "    </tr>\n",
              "    <tr>\n",
              "      <th>Index</th>\n",
              "      <th></th>\n",
              "      <th></th>\n",
              "      <th></th>\n",
              "      <th></th>\n",
              "    </tr>\n",
              "  </thead>\n",
              "  <tbody>\n",
              "    <tr>\n",
              "      <th>1</th>\n",
              "      <td>100.0</td>\n",
              "      <td>Beggin'</td>\n",
              "      <td>Måneskin</td>\n",
              "      <td>3377762</td>\n",
              "    </tr>\n",
              "    <tr>\n",
              "      <th>2</th>\n",
              "      <td>99.0</td>\n",
              "      <td>STAY (with Justin Bieber)</td>\n",
              "      <td>The Kid LAROI</td>\n",
              "      <td>2230022</td>\n",
              "    </tr>\n",
              "    <tr>\n",
              "      <th>3</th>\n",
              "      <td>99.0</td>\n",
              "      <td>good 4 u</td>\n",
              "      <td>Olivia Rodrigo</td>\n",
              "      <td>6266514</td>\n",
              "    </tr>\n",
              "    <tr>\n",
              "      <th>4</th>\n",
              "      <td>98.0</td>\n",
              "      <td>Bad Habits</td>\n",
              "      <td>Ed Sheeran</td>\n",
              "      <td>83293380</td>\n",
              "    </tr>\n",
              "    <tr>\n",
              "      <th>6</th>\n",
              "      <td>97.0</td>\n",
              "      <td>MONTERO (Call Me By Your Name)</td>\n",
              "      <td>Lil Nas X</td>\n",
              "      <td>5473565</td>\n",
              "    </tr>\n",
              "    <tr>\n",
              "      <th>5</th>\n",
              "      <td>96.0</td>\n",
              "      <td>INDUSTRY BABY (feat. Jack Harlow)</td>\n",
              "      <td>Lil Nas X</td>\n",
              "      <td>5473565</td>\n",
              "    </tr>\n",
              "    <tr>\n",
              "      <th>9</th>\n",
              "      <td>96.0</td>\n",
              "      <td>Yonaguni</td>\n",
              "      <td>Bad Bunny</td>\n",
              "      <td>36142273</td>\n",
              "    </tr>\n",
              "    <tr>\n",
              "      <th>8</th>\n",
              "      <td>95.0</td>\n",
              "      <td>Todo De Ti</td>\n",
              "      <td>Rauw Alejandro</td>\n",
              "      <td>6080597</td>\n",
              "    </tr>\n",
              "    <tr>\n",
              "      <th>10</th>\n",
              "      <td>95.0</td>\n",
              "      <td>I WANNA BE YOUR SLAVE</td>\n",
              "      <td>Måneskin</td>\n",
              "      <td>3377762</td>\n",
              "    </tr>\n",
              "    <tr>\n",
              "      <th>12</th>\n",
              "      <td>95.0</td>\n",
              "      <td>Qué Más Pues?</td>\n",
              "      <td>J Balvin, Maria Becerra</td>\n",
              "      <td>29051363</td>\n",
              "    </tr>\n",
              "  </tbody>\n",
              "</table>\n",
              "</div>"
            ],
            "text/plain": [
              "       Popularity  ... Artist Followers\n",
              "Index              ...                 \n",
              "1           100.0  ...          3377762\n",
              "2            99.0  ...          2230022\n",
              "3            99.0  ...          6266514\n",
              "4            98.0  ...         83293380\n",
              "6            97.0  ...          5473565\n",
              "5            96.0  ...          5473565\n",
              "9            96.0  ...         36142273\n",
              "8            95.0  ...          6080597\n",
              "10           95.0  ...          3377762\n",
              "12           95.0  ...         29051363\n",
              "\n",
              "[10 rows x 4 columns]"
            ]
          },
          "metadata": {},
          "execution_count": 223
        }
      ]
    },
    {
      "cell_type": "markdown",
      "metadata": {
        "id": "EDWezF2jMCM2"
      },
      "source": [
        "**Very surprising , even though Beggin by Maneskin reach 100 point of popularity , their followers not even reach most known artis like Ed Sheeran. You can see the chart below, it seems sum of followers doesn't always reach prefect popularity point. But of course it still popular anyway**"
      ]
    },
    {
      "cell_type": "code",
      "metadata": {
        "colab": {
          "base_uri": "https://localhost:8080/",
          "height": 640
        },
        "id": "p1pPPIcJGWa9",
        "outputId": "bd042b65-d7d6-4deb-b73d-1a09dbc630bd"
      },
      "source": [
        "with sns.axes_style('darkgrid'):\n",
        "\n",
        "  sns.catplot(data = pop,\n",
        "              x = 'Popularity',\n",
        "              y = 'Artist Followers',\n",
        "              aspect= 1.5,\n",
        "              height=8,\n",
        "              hue='Song Name',\n",
        "              kind='bar',\n",
        "              dodge= False)\n",
        "  plt.title(\" Is Followers affecting Popularity of a song ? \\n Beggin by Maneskin has 100 point popularity albeit with less followers\", fontsize=20)\n",
        "  plt.xlabel('Popularity', fontsize=20)\n",
        "  plt.ylabel('Followers', fontsize=20)"
      ],
      "execution_count": null,
      "outputs": [
        {
          "output_type": "display_data",
          "data": {
            "image/png": "[encoded data removed]",
            "text/plain": [
              "<Figure size 1074.38x576 with 1 Axes>"
            ]
          },
          "metadata": {}
        }
      ]
    },
    {
      "cell_type": "code",
      "metadata": {
        "colab": {
          "base_uri": "https://localhost:8080/",
          "height": 878
        },
        "id": "6RVIIVbMh2h2",
        "outputId": "9f4cc0b7-8127-4634-fafd-a48bdacb9b0b"
      },
      "source": [
        "df_clean[['Danceability', 'Energy', 'Loudness', 'Speechiness', 'Acousticness', 'Liveness', 'Tempo', 'Valence']].hist(figsize=(20, 15))\n",
        "plt.show()"
      ],
      "execution_count": null,
      "outputs": [
        {
          "output_type": "display_data",
          "data": {
            "image/png": "[encoded data removed]",
            "text/plain": [
              "<Figure size 1440x1080 with 9 Axes>"
            ]
          },
          "metadata": {
            "needs_background": "light"
          }
        }
      ]
    },
    {
      "cell_type": "markdown",
      "metadata": {
        "id": "ci6gr5jjMisn"
      },
      "source": [
        "# Modeling and Pre-Processing\n",
        "---"
      ]
    },
    {
      "cell_type": "code",
      "metadata": {
        "id": "4Pkt2uKSRnbO"
      },
      "source": [
        "from sklearn.model_selection import train_test_split, cross_validate, StratifiedKFold, GridSearchCV\n",
        "from sklearn.preprocessing import LabelEncoder, MinMaxScaler, OneHotEncoder, StandardScaler\n",
        "from sklearn.pipeline import make_pipeline, Pipeline\n",
        "from sklearn.metrics import make_scorer, classification_report, confusion_matrix, precision_score, f1_score, accuracy_score, recall_score"
      ],
      "execution_count": null,
      "outputs": []
    },
    {
      "cell_type": "code",
      "metadata": {
        "colab": {
          "base_uri": "https://localhost:8080/",
          "height": 280
        },
        "id": "jMw0EpQiHhQJ",
        "outputId": "da4834db-b4c0-41d1-cfde-e2594f11c381"
      },
      "source": [
        "df_clean.head(1)"
      ],
      "execution_count": null,
      "outputs": [
        {
          "output_type": "execute_result",
          "data": {
            "text/html": [
              "<div>\n",
              "<style scoped>\n",
              "    .dataframe tbody tr th:only-of-type {\n",
              "        vertical-align: middle;\n",
              "    }\n",
              "\n",
              "    .dataframe tbody tr th {\n",
              "        vertical-align: top;\n",
              "    }\n",
              "\n",
              "    .dataframe thead th {\n",
              "        text-align: right;\n",
              "    }\n",
              "</style>\n",
              "<table border=\"1\" class=\"dataframe\">\n",
              "  <thead>\n",
              "    <tr style=\"text-align: right;\">\n",
              "      <th></th>\n",
              "      <th>Highest Charting Position</th>\n",
              "      <th>Number of Times Charted</th>\n",
              "      <th>Week of Highest Charting</th>\n",
              "      <th>Song Name</th>\n",
              "      <th>Streams</th>\n",
              "      <th>Artist</th>\n",
              "      <th>Artist Followers</th>\n",
              "      <th>Song ID</th>\n",
              "      <th>Genre</th>\n",
              "      <th>Release Date</th>\n",
              "      <th>Weeks Charted</th>\n",
              "      <th>Popularity</th>\n",
              "      <th>Danceability</th>\n",
              "      <th>Energy</th>\n",
              "      <th>Loudness</th>\n",
              "      <th>Speechiness</th>\n",
              "      <th>Acousticness</th>\n",
              "      <th>Liveness</th>\n",
              "      <th>Tempo</th>\n",
              "      <th>Duration (ms)</th>\n",
              "      <th>Valence</th>\n",
              "      <th>Chord</th>\n",
              "    </tr>\n",
              "    <tr>\n",
              "      <th>Index</th>\n",
              "      <th></th>\n",
              "      <th></th>\n",
              "      <th></th>\n",
              "      <th></th>\n",
              "      <th></th>\n",
              "      <th></th>\n",
              "      <th></th>\n",
              "      <th></th>\n",
              "      <th></th>\n",
              "      <th></th>\n",
              "      <th></th>\n",
              "      <th></th>\n",
              "      <th></th>\n",
              "      <th></th>\n",
              "      <th></th>\n",
              "      <th></th>\n",
              "      <th></th>\n",
              "      <th></th>\n",
              "      <th></th>\n",
              "      <th></th>\n",
              "      <th></th>\n",
              "      <th></th>\n",
              "    </tr>\n",
              "  </thead>\n",
              "  <tbody>\n",
              "    <tr>\n",
              "      <th>1</th>\n",
              "      <td>1</td>\n",
              "      <td>8</td>\n",
              "      <td>2021-07-23--2021-07-30</td>\n",
              "      <td>Beggin'</td>\n",
              "      <td>48633449</td>\n",
              "      <td>Måneskin</td>\n",
              "      <td>3377762</td>\n",
              "      <td>3Wrjm47oTz2sjIgck11l5e</td>\n",
              "      <td>[indie rock italiano, italian pop]</td>\n",
              "      <td>2017-12-08</td>\n",
              "      <td>2021-07-23--2021-07-30\\n2021-07-16--2021-07-23...</td>\n",
              "      <td>100.0</td>\n",
              "      <td>0.714</td>\n",
              "      <td>0.8</td>\n",
              "      <td>-4.808</td>\n",
              "      <td>0.0504</td>\n",
              "      <td>0.127</td>\n",
              "      <td>0.359</td>\n",
              "      <td>134.001999</td>\n",
              "      <td>211560.0</td>\n",
              "      <td>0.589</td>\n",
              "      <td>B</td>\n",
              "    </tr>\n",
              "  </tbody>\n",
              "</table>\n",
              "</div>"
            ],
            "text/plain": [
              "       Highest Charting Position  Number of Times Charted  ... Valence Chord\n",
              "Index                                                      ...              \n",
              "1                              1                        8  ...   0.589     B\n",
              "\n",
              "[1 rows x 22 columns]"
            ]
          },
          "metadata": {},
          "execution_count": 227
        }
      ]
    },
    {
      "cell_type": "markdown",
      "metadata": {
        "id": "9Iq7NWTbM0I6"
      },
      "source": [
        "We want to claasify the nuance or vibe of a music , in order to do that we need to create new column based on Valence and set certain threshold for classfication\n",
        "\n",
        "> Tracks with high valence sound more positive (e.g. happy, cheerful, euphoric), while tracks with low valence sound more negative (e.g. sad, depressed, angry).\n",
        "\n",
        "> \n",
        "\n"
      ]
    },
    {
      "cell_type": "code",
      "metadata": {
        "colab": {
          "base_uri": "https://localhost:8080/",
          "height": 445
        },
        "id": "5gvdzY5jMr1R",
        "outputId": "47c146d7-ff22-4996-a7e0-70727b1f8c2f"
      },
      "source": [
        "dataset = df_clean.copy()\n",
        "dataset = dataset[['Danceability', 'Energy', 'Loudness', 'Speechiness', 'Acousticness', 'Liveness', 'Tempo', 'Chord', 'Valence']]\n",
        "dataset"
      ],
      "execution_count": null,
      "outputs": [
        {
          "output_type": "execute_result",
          "data": {
            "text/html": [
              "<div>\n",
              "<style scoped>\n",
              "    .dataframe tbody tr th:only-of-type {\n",
              "        vertical-align: middle;\n",
              "    }\n",
              "\n",
              "    .dataframe tbody tr th {\n",
              "        vertical-align: top;\n",
              "    }\n",
              "\n",
              "    .dataframe thead th {\n",
              "        text-align: right;\n",
              "    }\n",
              "</style>\n",
              "<table border=\"1\" class=\"dataframe\">\n",
              "  <thead>\n",
              "    <tr style=\"text-align: right;\">\n",
              "      <th></th>\n",
              "      <th>Danceability</th>\n",
              "      <th>Energy</th>\n",
              "      <th>Loudness</th>\n",
              "      <th>Speechiness</th>\n",
              "      <th>Acousticness</th>\n",
              "      <th>Liveness</th>\n",
              "      <th>Tempo</th>\n",
              "      <th>Chord</th>\n",
              "      <th>Valence</th>\n",
              "    </tr>\n",
              "    <tr>\n",
              "      <th>Index</th>\n",
              "      <th></th>\n",
              "      <th></th>\n",
              "      <th></th>\n",
              "      <th></th>\n",
              "      <th></th>\n",
              "      <th></th>\n",
              "      <th></th>\n",
              "      <th></th>\n",
              "      <th></th>\n",
              "    </tr>\n",
              "  </thead>\n",
              "  <tbody>\n",
              "    <tr>\n",
              "      <th>1</th>\n",
              "      <td>0.714</td>\n",
              "      <td>0.800</td>\n",
              "      <td>-4.808</td>\n",
              "      <td>0.0504</td>\n",
              "      <td>0.12700</td>\n",
              "      <td>0.3590</td>\n",
              "      <td>134.001999</td>\n",
              "      <td>B</td>\n",
              "      <td>0.589</td>\n",
              "    </tr>\n",
              "    <tr>\n",
              "      <th>2</th>\n",
              "      <td>0.591</td>\n",
              "      <td>0.764</td>\n",
              "      <td>-5.484</td>\n",
              "      <td>0.0483</td>\n",
              "      <td>0.03830</td>\n",
              "      <td>0.1030</td>\n",
              "      <td>169.927994</td>\n",
              "      <td>C#/Db</td>\n",
              "      <td>0.478</td>\n",
              "    </tr>\n",
              "    <tr>\n",
              "      <th>3</th>\n",
              "      <td>0.563</td>\n",
              "      <td>0.664</td>\n",
              "      <td>-5.044</td>\n",
              "      <td>0.1540</td>\n",
              "      <td>0.33500</td>\n",
              "      <td>0.0849</td>\n",
              "      <td>166.927994</td>\n",
              "      <td>A</td>\n",
              "      <td>0.688</td>\n",
              "    </tr>\n",
              "    <tr>\n",
              "      <th>4</th>\n",
              "      <td>0.808</td>\n",
              "      <td>0.897</td>\n",
              "      <td>-3.712</td>\n",
              "      <td>0.0348</td>\n",
              "      <td>0.04690</td>\n",
              "      <td>0.3640</td>\n",
              "      <td>126.026001</td>\n",
              "      <td>B</td>\n",
              "      <td>0.591</td>\n",
              "    </tr>\n",
              "    <tr>\n",
              "      <th>5</th>\n",
              "      <td>0.736</td>\n",
              "      <td>0.704</td>\n",
              "      <td>-7.409</td>\n",
              "      <td>0.0615</td>\n",
              "      <td>0.02030</td>\n",
              "      <td>0.0501</td>\n",
              "      <td>149.994995</td>\n",
              "      <td>D#/Eb</td>\n",
              "      <td>0.894</td>\n",
              "    </tr>\n",
              "    <tr>\n",
              "      <th>...</th>\n",
              "      <td>...</td>\n",
              "      <td>...</td>\n",
              "      <td>...</td>\n",
              "      <td>...</td>\n",
              "      <td>...</td>\n",
              "      <td>...</td>\n",
              "      <td>...</td>\n",
              "      <td>...</td>\n",
              "      <td>...</td>\n",
              "    </tr>\n",
              "    <tr>\n",
              "      <th>1552</th>\n",
              "      <td>0.762</td>\n",
              "      <td>0.700</td>\n",
              "      <td>-6.021</td>\n",
              "      <td>0.0694</td>\n",
              "      <td>0.00261</td>\n",
              "      <td>0.1530</td>\n",
              "      <td>116.072998</td>\n",
              "      <td>A</td>\n",
              "      <td>0.608</td>\n",
              "    </tr>\n",
              "    <tr>\n",
              "      <th>1553</th>\n",
              "      <td>0.528</td>\n",
              "      <td>0.870</td>\n",
              "      <td>-3.123</td>\n",
              "      <td>0.0851</td>\n",
              "      <td>0.24000</td>\n",
              "      <td>0.3330</td>\n",
              "      <td>152.369995</td>\n",
              "      <td>B</td>\n",
              "      <td>0.714</td>\n",
              "    </tr>\n",
              "    <tr>\n",
              "      <th>1554</th>\n",
              "      <td>0.765</td>\n",
              "      <td>0.523</td>\n",
              "      <td>-4.333</td>\n",
              "      <td>0.0300</td>\n",
              "      <td>0.18400</td>\n",
              "      <td>0.1320</td>\n",
              "      <td>104.987999</td>\n",
              "      <td>D</td>\n",
              "      <td>0.394</td>\n",
              "    </tr>\n",
              "    <tr>\n",
              "      <th>1555</th>\n",
              "      <td>0.832</td>\n",
              "      <td>0.550</td>\n",
              "      <td>-7.026</td>\n",
              "      <td>0.0587</td>\n",
              "      <td>0.24900</td>\n",
              "      <td>0.1820</td>\n",
              "      <td>154.063995</td>\n",
              "      <td>F</td>\n",
              "      <td>0.881</td>\n",
              "    </tr>\n",
              "    <tr>\n",
              "      <th>1556</th>\n",
              "      <td>0.448</td>\n",
              "      <td>0.603</td>\n",
              "      <td>-7.176</td>\n",
              "      <td>0.0640</td>\n",
              "      <td>0.43300</td>\n",
              "      <td>0.0862</td>\n",
              "      <td>205.272003</td>\n",
              "      <td>G</td>\n",
              "      <td>0.422</td>\n",
              "    </tr>\n",
              "  </tbody>\n",
              "</table>\n",
              "<p>1545 rows × 9 columns</p>\n",
              "</div>"
            ],
            "text/plain": [
              "       Danceability  Energy  Loudness  ...       Tempo  Chord  Valence\n",
              "Index                                  ...                            \n",
              "1             0.714   0.800    -4.808  ...  134.001999      B    0.589\n",
              "2             0.591   0.764    -5.484  ...  169.927994  C#/Db    0.478\n",
              "3             0.563   0.664    -5.044  ...  166.927994      A    0.688\n",
              "4             0.808   0.897    -3.712  ...  126.026001      B    0.591\n",
              "5             0.736   0.704    -7.409  ...  149.994995  D#/Eb    0.894\n",
              "...             ...     ...       ...  ...         ...    ...      ...\n",
              "1552          0.762   0.700    -6.021  ...  116.072998      A    0.608\n",
              "1553          0.528   0.870    -3.123  ...  152.369995      B    0.714\n",
              "1554          0.765   0.523    -4.333  ...  104.987999      D    0.394\n",
              "1555          0.832   0.550    -7.026  ...  154.063995      F    0.881\n",
              "1556          0.448   0.603    -7.176  ...  205.272003      G    0.422\n",
              "\n",
              "[1545 rows x 9 columns]"
            ]
          },
          "metadata": {},
          "execution_count": 391
        }
      ]
    },
    {
      "cell_type": "code",
      "metadata": {
        "colab": {
          "base_uri": "https://localhost:8080/",
          "height": 700
        },
        "id": "ut1It1rwr3Z_",
        "outputId": "8325e967-e38c-431a-f96c-a868ebbea756"
      },
      "source": [
        "f, ax = plt.subplots(figsize=(15, 12))\n",
        "mask = np.zeros_like(dataset.corr(), dtype=np.bool)\n",
        "mask[np.triu_indices_from(mask)] = True\n",
        "sns.heatmap(dataset.corr(), cmap='Greys', annot=True, mask=mask)\n",
        "plt.show()"
      ],
      "execution_count": null,
      "outputs": [
        {
          "output_type": "display_data",
          "data": {
            "image/png": "[encoded data removed]",
            "text/plain": [
              "<Figure size 1080x864 with 2 Axes>"
            ]
          },
          "metadata": {
            "needs_background": "light"
          }
        }
      ]
    },
    {
      "cell_type": "code",
      "metadata": {
        "colab": {
          "base_uri": "https://localhost:8080/",
          "height": 637
        },
        "id": "ZoiEvh4JTQWe",
        "outputId": "f3de0c9b-7ed2-4f74-b74f-b57c4d53849c"
      },
      "source": [
        "with sns.axes_style('whitegrid'):\n",
        "  fig, ax = plt.subplots(figsize=(15,10))\n",
        "\n",
        "  sns.histplot(df_clean['Valence'], color='y')\n",
        "  plt.title(\" Nuance (Valence) Level \", fontsize=20)\n",
        "  plt.ylabel(\" Frequency \", fontsize=18)\n",
        "  plt.xlabel(\" Valence \", fontsize=18)\n",
        "  plt.xticks(fontsize=12)\n",
        "  plt.show()"
      ],
      "execution_count": null,
      "outputs": [
        {
          "output_type": "display_data",
          "data": {
            "image/png": "[encoded data removed]",
            "text/plain": [
              "<Figure size 1080x720 with 1 Axes>"
            ]
          },
          "metadata": {}
        }
      ]
    },
    {
      "cell_type": "markdown",
      "metadata": {
        "id": "vjAHmkhdTq0K"
      },
      "source": [
        "we're going to divide it into 3 class\n",
        "\n",
        "> 0 - 0.3 --> sad\n",
        ">\n",
        "> 0.3 - 0.7 --> neutral(combined emotion)\n",
        ">\n",
        "> more than 0.7 -- > Happy/euphoric"
      ]
    },
    {
      "cell_type": "code",
      "metadata": {
        "colab": {
          "base_uri": "https://localhost:8080/",
          "height": 232
        },
        "id": "rCn-_CfCUQNG",
        "outputId": "f3692f1b-8295-4295-b6b6-131b00e429d9"
      },
      "source": [
        "dataset.head()"
      ],
      "execution_count": null,
      "outputs": [
        {
          "output_type": "execute_result",
          "data": {
            "text/html": [
              "<div>\n",
              "<style scoped>\n",
              "    .dataframe tbody tr th:only-of-type {\n",
              "        vertical-align: middle;\n",
              "    }\n",
              "\n",
              "    .dataframe tbody tr th {\n",
              "        vertical-align: top;\n",
              "    }\n",
              "\n",
              "    .dataframe thead th {\n",
              "        text-align: right;\n",
              "    }\n",
              "</style>\n",
              "<table border=\"1\" class=\"dataframe\">\n",
              "  <thead>\n",
              "    <tr style=\"text-align: right;\">\n",
              "      <th></th>\n",
              "      <th>Danceability</th>\n",
              "      <th>Energy</th>\n",
              "      <th>Loudness</th>\n",
              "      <th>Speechiness</th>\n",
              "      <th>Acousticness</th>\n",
              "      <th>Liveness</th>\n",
              "      <th>Tempo</th>\n",
              "      <th>Chord</th>\n",
              "      <th>Valence</th>\n",
              "    </tr>\n",
              "    <tr>\n",
              "      <th>Index</th>\n",
              "      <th></th>\n",
              "      <th></th>\n",
              "      <th></th>\n",
              "      <th></th>\n",
              "      <th></th>\n",
              "      <th></th>\n",
              "      <th></th>\n",
              "      <th></th>\n",
              "      <th></th>\n",
              "    </tr>\n",
              "  </thead>\n",
              "  <tbody>\n",
              "    <tr>\n",
              "      <th>1</th>\n",
              "      <td>0.714</td>\n",
              "      <td>0.800</td>\n",
              "      <td>-4.808</td>\n",
              "      <td>0.0504</td>\n",
              "      <td>0.1270</td>\n",
              "      <td>0.3590</td>\n",
              "      <td>134.001999</td>\n",
              "      <td>B</td>\n",
              "      <td>0.589</td>\n",
              "    </tr>\n",
              "    <tr>\n",
              "      <th>2</th>\n",
              "      <td>0.591</td>\n",
              "      <td>0.764</td>\n",
              "      <td>-5.484</td>\n",
              "      <td>0.0483</td>\n",
              "      <td>0.0383</td>\n",
              "      <td>0.1030</td>\n",
              "      <td>169.927994</td>\n",
              "      <td>C#/Db</td>\n",
              "      <td>0.478</td>\n",
              "    </tr>\n",
              "    <tr>\n",
              "      <th>3</th>\n",
              "      <td>0.563</td>\n",
              "      <td>0.664</td>\n",
              "      <td>-5.044</td>\n",
              "      <td>0.1540</td>\n",
              "      <td>0.3350</td>\n",
              "      <td>0.0849</td>\n",
              "      <td>166.927994</td>\n",
              "      <td>A</td>\n",
              "      <td>0.688</td>\n",
              "    </tr>\n",
              "    <tr>\n",
              "      <th>4</th>\n",
              "      <td>0.808</td>\n",
              "      <td>0.897</td>\n",
              "      <td>-3.712</td>\n",
              "      <td>0.0348</td>\n",
              "      <td>0.0469</td>\n",
              "      <td>0.3640</td>\n",
              "      <td>126.026001</td>\n",
              "      <td>B</td>\n",
              "      <td>0.591</td>\n",
              "    </tr>\n",
              "    <tr>\n",
              "      <th>5</th>\n",
              "      <td>0.736</td>\n",
              "      <td>0.704</td>\n",
              "      <td>-7.409</td>\n",
              "      <td>0.0615</td>\n",
              "      <td>0.0203</td>\n",
              "      <td>0.0501</td>\n",
              "      <td>149.994995</td>\n",
              "      <td>D#/Eb</td>\n",
              "      <td>0.894</td>\n",
              "    </tr>\n",
              "  </tbody>\n",
              "</table>\n",
              "</div>"
            ],
            "text/plain": [
              "       Danceability  Energy  Loudness  ...       Tempo  Chord  Valence\n",
              "Index                                  ...                            \n",
              "1             0.714   0.800    -4.808  ...  134.001999      B    0.589\n",
              "2             0.591   0.764    -5.484  ...  169.927994  C#/Db    0.478\n",
              "3             0.563   0.664    -5.044  ...  166.927994      A    0.688\n",
              "4             0.808   0.897    -3.712  ...  126.026001      B    0.591\n",
              "5             0.736   0.704    -7.409  ...  149.994995  D#/Eb    0.894\n",
              "\n",
              "[5 rows x 9 columns]"
            ]
          },
          "metadata": {},
          "execution_count": 395
        }
      ]
    },
    {
      "cell_type": "code",
      "metadata": {
        "colab": {
          "base_uri": "https://localhost:8080/"
        },
        "id": "BiufghsWRQcJ",
        "outputId": "2ccf2337-5a0a-45c4-e3fd-427ae4fd0d2a"
      },
      "source": [
        "dataset.Chord.unique()"
      ],
      "execution_count": null,
      "outputs": [
        {
          "output_type": "execute_result",
          "data": {
            "text/plain": [
              "array(['B', 'C#/Db', 'A', 'D#/Eb', 'G#/Ab', 'F#/Gb', 'C', 'D', 'A#/Bb',\n",
              "       'G', 'E', 'F'], dtype=object)"
            ]
          },
          "metadata": {},
          "execution_count": 396
        }
      ]
    },
    {
      "cell_type": "code",
      "metadata": {
        "colab": {
          "base_uri": "https://localhost:8080/",
          "height": 445
        },
        "id": "DXqdyN6eV2S4",
        "outputId": "de43f162-dbd0-4393-b784-5de2015313ad"
      },
      "source": [
        "dataset['Valence'] = dataset['Valence'].apply(lambda x: 'sad' if x <= 0.333 else 'happy' if x > 0.666 else 'neutral')\n",
        "dataset"
      ],
      "execution_count": null,
      "outputs": [
        {
          "output_type": "execute_result",
          "data": {
            "text/html": [
              "<div>\n",
              "<style scoped>\n",
              "    .dataframe tbody tr th:only-of-type {\n",
              "        vertical-align: middle;\n",
              "    }\n",
              "\n",
              "    .dataframe tbody tr th {\n",
              "        vertical-align: top;\n",
              "    }\n",
              "\n",
              "    .dataframe thead th {\n",
              "        text-align: right;\n",
              "    }\n",
              "</style>\n",
              "<table border=\"1\" class=\"dataframe\">\n",
              "  <thead>\n",
              "    <tr style=\"text-align: right;\">\n",
              "      <th></th>\n",
              "      <th>Danceability</th>\n",
              "      <th>Energy</th>\n",
              "      <th>Loudness</th>\n",
              "      <th>Speechiness</th>\n",
              "      <th>Acousticness</th>\n",
              "      <th>Liveness</th>\n",
              "      <th>Tempo</th>\n",
              "      <th>Chord</th>\n",
              "      <th>Valence</th>\n",
              "    </tr>\n",
              "    <tr>\n",
              "      <th>Index</th>\n",
              "      <th></th>\n",
              "      <th></th>\n",
              "      <th></th>\n",
              "      <th></th>\n",
              "      <th></th>\n",
              "      <th></th>\n",
              "      <th></th>\n",
              "      <th></th>\n",
              "      <th></th>\n",
              "    </tr>\n",
              "  </thead>\n",
              "  <tbody>\n",
              "    <tr>\n",
              "      <th>1</th>\n",
              "      <td>0.714</td>\n",
              "      <td>0.800</td>\n",
              "      <td>-4.808</td>\n",
              "      <td>0.0504</td>\n",
              "      <td>0.12700</td>\n",
              "      <td>0.3590</td>\n",
              "      <td>134.001999</td>\n",
              "      <td>B</td>\n",
              "      <td>neutral</td>\n",
              "    </tr>\n",
              "    <tr>\n",
              "      <th>2</th>\n",
              "      <td>0.591</td>\n",
              "      <td>0.764</td>\n",
              "      <td>-5.484</td>\n",
              "      <td>0.0483</td>\n",
              "      <td>0.03830</td>\n",
              "      <td>0.1030</td>\n",
              "      <td>169.927994</td>\n",
              "      <td>C#/Db</td>\n",
              "      <td>neutral</td>\n",
              "    </tr>\n",
              "    <tr>\n",
              "      <th>3</th>\n",
              "      <td>0.563</td>\n",
              "      <td>0.664</td>\n",
              "      <td>-5.044</td>\n",
              "      <td>0.1540</td>\n",
              "      <td>0.33500</td>\n",
              "      <td>0.0849</td>\n",
              "      <td>166.927994</td>\n",
              "      <td>A</td>\n",
              "      <td>happy</td>\n",
              "    </tr>\n",
              "    <tr>\n",
              "      <th>4</th>\n",
              "      <td>0.808</td>\n",
              "      <td>0.897</td>\n",
              "      <td>-3.712</td>\n",
              "      <td>0.0348</td>\n",
              "      <td>0.04690</td>\n",
              "      <td>0.3640</td>\n",
              "      <td>126.026001</td>\n",
              "      <td>B</td>\n",
              "      <td>neutral</td>\n",
              "    </tr>\n",
              "    <tr>\n",
              "      <th>5</th>\n",
              "      <td>0.736</td>\n",
              "      <td>0.704</td>\n",
              "      <td>-7.409</td>\n",
              "      <td>0.0615</td>\n",
              "      <td>0.02030</td>\n",
              "      <td>0.0501</td>\n",
              "      <td>149.994995</td>\n",
              "      <td>D#/Eb</td>\n",
              "      <td>happy</td>\n",
              "    </tr>\n",
              "    <tr>\n",
              "      <th>...</th>\n",
              "      <td>...</td>\n",
              "      <td>...</td>\n",
              "      <td>...</td>\n",
              "      <td>...</td>\n",
              "      <td>...</td>\n",
              "      <td>...</td>\n",
              "      <td>...</td>\n",
              "      <td>...</td>\n",
              "      <td>...</td>\n",
              "    </tr>\n",
              "    <tr>\n",
              "      <th>1552</th>\n",
              "      <td>0.762</td>\n",
              "      <td>0.700</td>\n",
              "      <td>-6.021</td>\n",
              "      <td>0.0694</td>\n",
              "      <td>0.00261</td>\n",
              "      <td>0.1530</td>\n",
              "      <td>116.072998</td>\n",
              "      <td>A</td>\n",
              "      <td>neutral</td>\n",
              "    </tr>\n",
              "    <tr>\n",
              "      <th>1553</th>\n",
              "      <td>0.528</td>\n",
              "      <td>0.870</td>\n",
              "      <td>-3.123</td>\n",
              "      <td>0.0851</td>\n",
              "      <td>0.24000</td>\n",
              "      <td>0.3330</td>\n",
              "      <td>152.369995</td>\n",
              "      <td>B</td>\n",
              "      <td>happy</td>\n",
              "    </tr>\n",
              "    <tr>\n",
              "      <th>1554</th>\n",
              "      <td>0.765</td>\n",
              "      <td>0.523</td>\n",
              "      <td>-4.333</td>\n",
              "      <td>0.0300</td>\n",
              "      <td>0.18400</td>\n",
              "      <td>0.1320</td>\n",
              "      <td>104.987999</td>\n",
              "      <td>D</td>\n",
              "      <td>neutral</td>\n",
              "    </tr>\n",
              "    <tr>\n",
              "      <th>1555</th>\n",
              "      <td>0.832</td>\n",
              "      <td>0.550</td>\n",
              "      <td>-7.026</td>\n",
              "      <td>0.0587</td>\n",
              "      <td>0.24900</td>\n",
              "      <td>0.1820</td>\n",
              "      <td>154.063995</td>\n",
              "      <td>F</td>\n",
              "      <td>happy</td>\n",
              "    </tr>\n",
              "    <tr>\n",
              "      <th>1556</th>\n",
              "      <td>0.448</td>\n",
              "      <td>0.603</td>\n",
              "      <td>-7.176</td>\n",
              "      <td>0.0640</td>\n",
              "      <td>0.43300</td>\n",
              "      <td>0.0862</td>\n",
              "      <td>205.272003</td>\n",
              "      <td>G</td>\n",
              "      <td>neutral</td>\n",
              "    </tr>\n",
              "  </tbody>\n",
              "</table>\n",
              "<p>1545 rows × 9 columns</p>\n",
              "</div>"
            ],
            "text/plain": [
              "       Danceability  Energy  Loudness  ...       Tempo  Chord  Valence\n",
              "Index                                  ...                            \n",
              "1             0.714   0.800    -4.808  ...  134.001999      B  neutral\n",
              "2             0.591   0.764    -5.484  ...  169.927994  C#/Db  neutral\n",
              "3             0.563   0.664    -5.044  ...  166.927994      A    happy\n",
              "4             0.808   0.897    -3.712  ...  126.026001      B  neutral\n",
              "5             0.736   0.704    -7.409  ...  149.994995  D#/Eb    happy\n",
              "...             ...     ...       ...  ...         ...    ...      ...\n",
              "1552          0.762   0.700    -6.021  ...  116.072998      A  neutral\n",
              "1553          0.528   0.870    -3.123  ...  152.369995      B    happy\n",
              "1554          0.765   0.523    -4.333  ...  104.987999      D  neutral\n",
              "1555          0.832   0.550    -7.026  ...  154.063995      F    happy\n",
              "1556          0.448   0.603    -7.176  ...  205.272003      G  neutral\n",
              "\n",
              "[1545 rows x 9 columns]"
            ]
          },
          "metadata": {},
          "execution_count": 397
        }
      ]
    },
    {
      "cell_type": "code",
      "metadata": {
        "colab": {
          "base_uri": "https://localhost:8080/"
        },
        "id": "Q5vuCkP4YLdW",
        "outputId": "203ba90a-668b-44f9-facb-c101299991dc"
      },
      "source": [
        "dataset.Valence.unique()"
      ],
      "execution_count": null,
      "outputs": [
        {
          "output_type": "execute_result",
          "data": {
            "text/plain": [
              "array(['neutral', 'happy', 'sad'], dtype=object)"
            ]
          },
          "metadata": {},
          "execution_count": 398
        }
      ]
    },
    {
      "cell_type": "code",
      "metadata": {
        "id": "wi5ZJ5VYS48X"
      },
      "source": [
        "train = dataset.copy()\n",
        "X_train, X_test = train_test_split(train, test_size = 0.2, random_state = 42)\n",
        "\n",
        "encode = LabelEncoder()\n",
        "\n",
        "X_train['Chord'] = encode.fit_transform(X_train.loc[:, ['Chord']])\n",
        "X_test['Chord'] = encode.transform(X_test.loc[: , ['Chord']])\n",
        "\n",
        "\n"
      ],
      "execution_count": null,
      "outputs": []
    },
    {
      "cell_type": "code",
      "metadata": {
        "colab": {
          "base_uri": "https://localhost:8080/",
          "height": 232
        },
        "id": "CJNnDNYHZ95V",
        "outputId": "9da2a1a8-3e3f-4eb5-b175-22370b39396e"
      },
      "source": [
        "X_train.head()"
      ],
      "execution_count": null,
      "outputs": [
        {
          "output_type": "execute_result",
          "data": {
            "text/html": [
              "<div>\n",
              "<style scoped>\n",
              "    .dataframe tbody tr th:only-of-type {\n",
              "        vertical-align: middle;\n",
              "    }\n",
              "\n",
              "    .dataframe tbody tr th {\n",
              "        vertical-align: top;\n",
              "    }\n",
              "\n",
              "    .dataframe thead th {\n",
              "        text-align: right;\n",
              "    }\n",
              "</style>\n",
              "<table border=\"1\" class=\"dataframe\">\n",
              "  <thead>\n",
              "    <tr style=\"text-align: right;\">\n",
              "      <th></th>\n",
              "      <th>Danceability</th>\n",
              "      <th>Energy</th>\n",
              "      <th>Speechiness</th>\n",
              "      <th>Acousticness</th>\n",
              "      <th>Liveness</th>\n",
              "      <th>Valence</th>\n",
              "    </tr>\n",
              "    <tr>\n",
              "      <th>Index</th>\n",
              "      <th></th>\n",
              "      <th></th>\n",
              "      <th></th>\n",
              "      <th></th>\n",
              "      <th></th>\n",
              "      <th></th>\n",
              "    </tr>\n",
              "  </thead>\n",
              "  <tbody>\n",
              "    <tr>\n",
              "      <th>485</th>\n",
              "      <td>0.691</td>\n",
              "      <td>0.739</td>\n",
              "      <td>0.2290</td>\n",
              "      <td>0.42200</td>\n",
              "      <td>0.1100</td>\n",
              "      <td>happy</td>\n",
              "    </tr>\n",
              "    <tr>\n",
              "      <th>534</th>\n",
              "      <td>0.333</td>\n",
              "      <td>0.637</td>\n",
              "      <td>0.0581</td>\n",
              "      <td>0.13100</td>\n",
              "      <td>0.1490</td>\n",
              "      <td>sad</td>\n",
              "    </tr>\n",
              "    <tr>\n",
              "      <th>1199</th>\n",
              "      <td>0.812</td>\n",
              "      <td>0.506</td>\n",
              "      <td>0.1160</td>\n",
              "      <td>0.28100</td>\n",
              "      <td>0.3250</td>\n",
              "      <td>neutral</td>\n",
              "    </tr>\n",
              "    <tr>\n",
              "      <th>868</th>\n",
              "      <td>0.616</td>\n",
              "      <td>0.617</td>\n",
              "      <td>0.5200</td>\n",
              "      <td>0.12800</td>\n",
              "      <td>0.1770</td>\n",
              "      <td>neutral</td>\n",
              "    </tr>\n",
              "    <tr>\n",
              "      <th>1151</th>\n",
              "      <td>0.679</td>\n",
              "      <td>0.731</td>\n",
              "      <td>0.0319</td>\n",
              "      <td>0.00518</td>\n",
              "      <td>0.0614</td>\n",
              "      <td>happy</td>\n",
              "    </tr>\n",
              "  </tbody>\n",
              "</table>\n",
              "</div>"
            ],
            "text/plain": [
              "       Danceability  Energy  Speechiness  Acousticness  Liveness  Valence\n",
              "Index                                                                    \n",
              "485           0.691   0.739       0.2290       0.42200    0.1100    happy\n",
              "534           0.333   0.637       0.0581       0.13100    0.1490      sad\n",
              "1199          0.812   0.506       0.1160       0.28100    0.3250  neutral\n",
              "868           0.616   0.617       0.5200       0.12800    0.1770  neutral\n",
              "1151          0.679   0.731       0.0319       0.00518    0.0614    happy"
            ]
          },
          "metadata": {},
          "execution_count": 384
        }
      ]
    },
    {
      "cell_type": "code",
      "metadata": {
        "id": "_F3X5RlrRac5"
      },
      "source": [
        "\n",
        "y_train = X_train.pop('Valence')\n",
        "y_test = X_test.pop('Valence')\n",
        "\n",
        "y_train = encode.fit_transform(y_train)\n",
        "y_test = encode.transform(y_test)"
      ],
      "execution_count": null,
      "outputs": []
    },
    {
      "cell_type": "code",
      "metadata": {
        "colab": {
          "base_uri": "https://localhost:8080/"
        },
        "id": "737Zmf7PSVhG",
        "outputId": "7ac719dc-facc-4f6b-fdb7-274b19c7c60a"
      },
      "source": [
        "X_train.reset_index(drop=True, inplace=True)\n",
        "X_test.reset_index(drop=True, inplace=True)\n",
        "\n",
        "y_train"
      ],
      "execution_count": null,
      "outputs": [
        {
          "output_type": "execute_result",
          "data": {
            "text/plain": [
              "array([0, 2, 1, ..., 1, 2, 2])"
            ]
          },
          "metadata": {},
          "execution_count": 401
        }
      ]
    },
    {
      "cell_type": "code",
      "metadata": {
        "colab": {
          "base_uri": "https://localhost:8080/"
        },
        "id": "yyDLCwA-bA4Y",
        "outputId": "c5635df4-95d4-4e66-c85f-6ddefe14ef4d"
      },
      "source": [
        "from collections import Counter\n",
        "print(Counter(y_train))\n",
        "print(Counter(y_test))"
      ],
      "execution_count": null,
      "outputs": [
        {
          "output_type": "stream",
          "text": [
            "Counter({1: 589, 0: 347, 2: 300})\n",
            "Counter({1: 150, 0: 93, 2: 66})\n"
          ],
          "name": "stdout"
        }
      ]
    },
    {
      "cell_type": "markdown",
      "metadata": {
        "id": "_Q3_GrF9avGA"
      },
      "source": [
        "# Random Forest\n",
        "---"
      ]
    },
    {
      "cell_type": "code",
      "metadata": {
        "colab": {
          "base_uri": "https://localhost:8080/"
        },
        "id": "LJVkfOO6rK_Y",
        "outputId": "c17d12db-ec8a-4467-932b-b9093ac9ed8f"
      },
      "source": [
        "from sklearn.ensemble import RandomForestClassifier\n",
        "np.random.seed(39)\n",
        "randomForest_model = RandomForestClassifier(random_state=0)\n",
        "\n",
        "scorers = {\n",
        "    'precision_score': make_scorer(precision_score, average='micro'),\n",
        "    'recall_score': make_scorer(recall_score, average='micro'),\n",
        "    'accuracy_score': make_scorer(accuracy_score),\n",
        "    'f1_score': make_scorer(f1_score, average='macro')\n",
        "}\n",
        "\n",
        "parameters = {'criterion':['gini'], 'min_samples_split': [2, 8], 'max_depth': [5, 10]}\n",
        "\n",
        "grid_forest = GridSearchCV(randomForest_model, parameters, scoring=scorers, refit='f1_score')\n",
        "%timeit grid_forest.fit(X_train, y_train)"
      ],
      "execution_count": null,
      "outputs": [
        {
          "output_type": "stream",
          "text": [
            "1 loop, best of 5: 5.08 s per loop\n"
          ],
          "name": "stdout"
        }
      ]
    },
    {
      "cell_type": "code",
      "metadata": {
        "colab": {
          "base_uri": "https://localhost:8080/"
        },
        "id": "YXlRfzak88B6",
        "outputId": "a2960697-8533-4572-e967-9a4c457534b1"
      },
      "source": [
        "print(grid_forest.best_params_)\n",
        "print(grid_forest.best_score_)"
      ],
      "execution_count": null,
      "outputs": [
        {
          "output_type": "stream",
          "text": [
            "{'criterion': 'gini', 'max_depth': 10, 'min_samples_split': 8}\n",
            "0.5061623662663549\n"
          ],
          "name": "stdout"
        }
      ]
    },
    {
      "cell_type": "code",
      "metadata": {
        "colab": {
          "base_uri": "https://localhost:8080/"
        },
        "id": "ITTe5o1sChVf",
        "outputId": "3b287a5f-e9fc-4b83-d555-ab0fbe2fcb0b"
      },
      "source": [
        "y_pred = grid_forest.predict(X_test)\n",
        "print(classification_report(y_test, y_pred))"
      ],
      "execution_count": null,
      "outputs": [
        {
          "output_type": "stream",
          "text": [
            "              precision    recall  f1-score   support\n",
            "\n",
            "           0       0.68      0.39      0.49        93\n",
            "           1       0.56      0.81      0.67       150\n",
            "           2       0.65      0.39      0.49        66\n",
            "\n",
            "    accuracy                           0.60       309\n",
            "   macro avg       0.63      0.53      0.55       309\n",
            "weighted avg       0.62      0.60      0.58       309\n",
            "\n"
          ],
          "name": "stdout"
        }
      ]
    },
    {
      "cell_type": "markdown",
      "metadata": {
        "id": "RxT18dAwJNfi"
      },
      "source": [
        "> Cross Validation : Stratified Kfold, becase of imbalance dataset"
      ]
    },
    {
      "cell_type": "code",
      "metadata": {
        "colab": {
          "base_uri": "https://localhost:8080/"
        },
        "id": "ecqcDVkiJJRd",
        "outputId": "b1c9e248-2a10-4f9b-fda7-b2af81e3a3cb"
      },
      "source": [
        "cv = StratifiedKFold(n_splits=5, shuffle=True, random_state=42)\n",
        "cross = cross_validate(grid_forest.best_estimator_, X_train, y_train, cv=cv, scoring=scorers)\n",
        "\n",
        "print('Mean of %s --> %f' %('test_accuracy_score' ,np.mean(cross['test_accuracy_score'])))\n",
        "print('Mean of %s --> %f' %('test_precision_score' ,np.mean(cross['test_precision_score'])))\n",
        "print('Mean of %s --> %f' %('test_recall_score' ,np.mean(cross['test_recall_score'])))\n",
        "print('Mean of %s --> %f' %('test_f1_score' ,np.mean(cross['test_f1_score'])))"
      ],
      "execution_count": null,
      "outputs": [
        {
          "output_type": "stream",
          "text": [
            "Mean of test_accuracy_score --> 0.555795\n",
            "Mean of test_precision_score --> 0.555795\n",
            "Mean of test_recall_score --> 0.555795\n",
            "Mean of test_f1_score --> 0.507981\n"
          ],
          "name": "stdout"
        }
      ]
    },
    {
      "cell_type": "markdown",
      "metadata": {
        "id": "jkZPs3CD9hQN"
      },
      "source": [
        "---"
      ]
    },
    {
      "cell_type": "markdown",
      "metadata": {
        "id": "s_eYQb9YD45R"
      },
      "source": [
        "# Logistic Regression\n",
        "---"
      ]
    },
    {
      "cell_type": "code",
      "metadata": {
        "colab": {
          "base_uri": "https://localhost:8080/"
        },
        "id": "gPvf1qRVpCVq",
        "outputId": "872d6b51-3b18-4551-9c38-8e63a81d1436"
      },
      "source": [
        "from sklearn.linear_model import LogisticRegression\n",
        "\n",
        "logReg_model = LogisticRegression(random_state=42, max_iter=500, solver='liblinear')\n",
        "\n",
        "\n",
        "parameters = {'penalty':['l1', 'l2'], 'C': [1, 10]}\n",
        "\n",
        "grid_log = GridSearchCV(logReg_model, parameters, scoring=scorers, refit='f1_score')\n",
        "%timeit grid_log.fit(X_train, y_train)"
      ],
      "execution_count": null,
      "outputs": [
        {
          "output_type": "stream",
          "text": [
            "1 loop, best of 5: 721 ms per loop\n"
          ],
          "name": "stdout"
        }
      ]
    },
    {
      "cell_type": "markdown",
      "metadata": {
        "id": "VZgfquR9Bh1Z"
      },
      "source": [
        "> Training Score"
      ]
    },
    {
      "cell_type": "code",
      "metadata": {
        "colab": {
          "base_uri": "https://localhost:8080/"
        },
        "id": "KyciujN-6-Wb",
        "outputId": "e29a92d0-d47b-4ba7-84a9-369b99bec569"
      },
      "source": [
        "print(grid_log.best_params_)\n",
        "print(grid_log.best_score_)"
      ],
      "execution_count": null,
      "outputs": [
        {
          "output_type": "stream",
          "text": [
            "{'C': 10, 'penalty': 'l1'}\n",
            "0.4794337704025164\n"
          ],
          "name": "stdout"
        }
      ]
    },
    {
      "cell_type": "markdown",
      "metadata": {
        "id": "wUiYQj9JBkVM"
      },
      "source": [
        "> Testing Score"
      ]
    },
    {
      "cell_type": "code",
      "metadata": {
        "colab": {
          "base_uri": "https://localhost:8080/"
        },
        "id": "NWzDVEcmA96r",
        "outputId": "1d46ca61-7058-4e75-f9d1-661e6686f31e"
      },
      "source": [
        "y_pred = grid_log.predict(X_test)\n",
        "print(classification_report(y_test, y_pred))"
      ],
      "execution_count": null,
      "outputs": [
        {
          "output_type": "stream",
          "text": [
            "              precision    recall  f1-score   support\n",
            "\n",
            "           0       0.62      0.26      0.36        93\n",
            "           1       0.53      0.79      0.64       150\n",
            "           2       0.57      0.39      0.46        66\n",
            "\n",
            "    accuracy                           0.55       309\n",
            "   macro avg       0.57      0.48      0.49       309\n",
            "weighted avg       0.56      0.55      0.52       309\n",
            "\n"
          ],
          "name": "stdout"
        }
      ]
    },
    {
      "cell_type": "markdown",
      "metadata": {
        "id": "J3ZbeXD-Ivn1"
      },
      "source": [
        "> Cross Validation : Stratified Kfold, becase of imbalance dataset"
      ]
    },
    {
      "cell_type": "code",
      "metadata": {
        "colab": {
          "base_uri": "https://localhost:8080/"
        },
        "id": "jPFDyQZzIrfe",
        "outputId": "88d443be-af84-41a1-dcea-21ace936a79c"
      },
      "source": [
        "cv = StratifiedKFold(n_splits=5, shuffle=True, random_state=42)\n",
        "cross = cross_validate(grid_log.best_estimator_, X_train, y_train, cv=cv, scoring=scorers)\n",
        "\n",
        "print('Mean of %s --> %f' %('test_accuracy_score' ,np.mean(cross['test_accuracy_score'])))\n",
        "print('Mean of %s --> %f' %('test_precision_score' ,np.mean(cross['test_precision_score'])))\n",
        "print('Mean of %s --> %f' %('test_recall_score' ,np.mean(cross['test_recall_score'])))\n",
        "print('Mean of %s --> %f' %('test_f1_score' ,np.mean(cross['test_f1_score'])))"
      ],
      "execution_count": null,
      "outputs": [
        {
          "output_type": "stream",
          "text": [
            "Mean of test_accuracy_score --> 0.534785\n",
            "Mean of test_precision_score --> 0.534785\n",
            "Mean of test_recall_score --> 0.534785\n",
            "Mean of test_f1_score --> 0.476902\n"
          ],
          "name": "stdout"
        }
      ]
    },
    {
      "cell_type": "markdown",
      "metadata": {
        "id": "sQd-ixGk9iXL"
      },
      "source": [
        "---"
      ]
    },
    {
      "cell_type": "markdown",
      "metadata": {
        "id": "WqHs8wCQoirE"
      },
      "source": [
        "# Pipeline & Improvement\n",
        "---\n",
        "> Remove some feature with no effect like chord and Tempo, nuance does not decided by how long the tracks are and what kind of initial Chord the tracks are playing."
      ]
    },
    {
      "cell_type": "code",
      "metadata": {
        "colab": {
          "base_uri": "https://localhost:8080/",
          "height": 445
        },
        "id": "PzQrrJ1polAZ",
        "outputId": "22c27b1a-7256-445b-f6af-2b7e5c3cd3ba"
      },
      "source": [
        "dataset = df_clean.copy()\n",
        "dataset = dataset[['Danceability', 'Energy', 'Loudness', 'Speechiness', 'Acousticness', 'Liveness', 'Valence']]\n",
        "dataset"
      ],
      "execution_count": null,
      "outputs": [
        {
          "output_type": "execute_result",
          "data": {
            "text/html": [
              "<div>\n",
              "<style scoped>\n",
              "    .dataframe tbody tr th:only-of-type {\n",
              "        vertical-align: middle;\n",
              "    }\n",
              "\n",
              "    .dataframe tbody tr th {\n",
              "        vertical-align: top;\n",
              "    }\n",
              "\n",
              "    .dataframe thead th {\n",
              "        text-align: right;\n",
              "    }\n",
              "</style>\n",
              "<table border=\"1\" class=\"dataframe\">\n",
              "  <thead>\n",
              "    <tr style=\"text-align: right;\">\n",
              "      <th></th>\n",
              "      <th>Danceability</th>\n",
              "      <th>Energy</th>\n",
              "      <th>Loudness</th>\n",
              "      <th>Speechiness</th>\n",
              "      <th>Acousticness</th>\n",
              "      <th>Liveness</th>\n",
              "      <th>Valence</th>\n",
              "    </tr>\n",
              "    <tr>\n",
              "      <th>Index</th>\n",
              "      <th></th>\n",
              "      <th></th>\n",
              "      <th></th>\n",
              "      <th></th>\n",
              "      <th></th>\n",
              "      <th></th>\n",
              "      <th></th>\n",
              "    </tr>\n",
              "  </thead>\n",
              "  <tbody>\n",
              "    <tr>\n",
              "      <th>1</th>\n",
              "      <td>0.714</td>\n",
              "      <td>0.800</td>\n",
              "      <td>-4.808</td>\n",
              "      <td>0.0504</td>\n",
              "      <td>0.12700</td>\n",
              "      <td>0.3590</td>\n",
              "      <td>0.589</td>\n",
              "    </tr>\n",
              "    <tr>\n",
              "      <th>2</th>\n",
              "      <td>0.591</td>\n",
              "      <td>0.764</td>\n",
              "      <td>-5.484</td>\n",
              "      <td>0.0483</td>\n",
              "      <td>0.03830</td>\n",
              "      <td>0.1030</td>\n",
              "      <td>0.478</td>\n",
              "    </tr>\n",
              "    <tr>\n",
              "      <th>3</th>\n",
              "      <td>0.563</td>\n",
              "      <td>0.664</td>\n",
              "      <td>-5.044</td>\n",
              "      <td>0.1540</td>\n",
              "      <td>0.33500</td>\n",
              "      <td>0.0849</td>\n",
              "      <td>0.688</td>\n",
              "    </tr>\n",
              "    <tr>\n",
              "      <th>4</th>\n",
              "      <td>0.808</td>\n",
              "      <td>0.897</td>\n",
              "      <td>-3.712</td>\n",
              "      <td>0.0348</td>\n",
              "      <td>0.04690</td>\n",
              "      <td>0.3640</td>\n",
              "      <td>0.591</td>\n",
              "    </tr>\n",
              "    <tr>\n",
              "      <th>5</th>\n",
              "      <td>0.736</td>\n",
              "      <td>0.704</td>\n",
              "      <td>-7.409</td>\n",
              "      <td>0.0615</td>\n",
              "      <td>0.02030</td>\n",
              "      <td>0.0501</td>\n",
              "      <td>0.894</td>\n",
              "    </tr>\n",
              "    <tr>\n",
              "      <th>...</th>\n",
              "      <td>...</td>\n",
              "      <td>...</td>\n",
              "      <td>...</td>\n",
              "      <td>...</td>\n",
              "      <td>...</td>\n",
              "      <td>...</td>\n",
              "      <td>...</td>\n",
              "    </tr>\n",
              "    <tr>\n",
              "      <th>1552</th>\n",
              "      <td>0.762</td>\n",
              "      <td>0.700</td>\n",
              "      <td>-6.021</td>\n",
              "      <td>0.0694</td>\n",
              "      <td>0.00261</td>\n",
              "      <td>0.1530</td>\n",
              "      <td>0.608</td>\n",
              "    </tr>\n",
              "    <tr>\n",
              "      <th>1553</th>\n",
              "      <td>0.528</td>\n",
              "      <td>0.870</td>\n",
              "      <td>-3.123</td>\n",
              "      <td>0.0851</td>\n",
              "      <td>0.24000</td>\n",
              "      <td>0.3330</td>\n",
              "      <td>0.714</td>\n",
              "    </tr>\n",
              "    <tr>\n",
              "      <th>1554</th>\n",
              "      <td>0.765</td>\n",
              "      <td>0.523</td>\n",
              "      <td>-4.333</td>\n",
              "      <td>0.0300</td>\n",
              "      <td>0.18400</td>\n",
              "      <td>0.1320</td>\n",
              "      <td>0.394</td>\n",
              "    </tr>\n",
              "    <tr>\n",
              "      <th>1555</th>\n",
              "      <td>0.832</td>\n",
              "      <td>0.550</td>\n",
              "      <td>-7.026</td>\n",
              "      <td>0.0587</td>\n",
              "      <td>0.24900</td>\n",
              "      <td>0.1820</td>\n",
              "      <td>0.881</td>\n",
              "    </tr>\n",
              "    <tr>\n",
              "      <th>1556</th>\n",
              "      <td>0.448</td>\n",
              "      <td>0.603</td>\n",
              "      <td>-7.176</td>\n",
              "      <td>0.0640</td>\n",
              "      <td>0.43300</td>\n",
              "      <td>0.0862</td>\n",
              "      <td>0.422</td>\n",
              "    </tr>\n",
              "  </tbody>\n",
              "</table>\n",
              "<p>1545 rows × 7 columns</p>\n",
              "</div>"
            ],
            "text/plain": [
              "       Danceability  Energy  Loudness  ...  Acousticness  Liveness  Valence\n",
              "Index                                  ...                                 \n",
              "1             0.714   0.800    -4.808  ...       0.12700    0.3590    0.589\n",
              "2             0.591   0.764    -5.484  ...       0.03830    0.1030    0.478\n",
              "3             0.563   0.664    -5.044  ...       0.33500    0.0849    0.688\n",
              "4             0.808   0.897    -3.712  ...       0.04690    0.3640    0.591\n",
              "5             0.736   0.704    -7.409  ...       0.02030    0.0501    0.894\n",
              "...             ...     ...       ...  ...           ...       ...      ...\n",
              "1552          0.762   0.700    -6.021  ...       0.00261    0.1530    0.608\n",
              "1553          0.528   0.870    -3.123  ...       0.24000    0.3330    0.714\n",
              "1554          0.765   0.523    -4.333  ...       0.18400    0.1320    0.394\n",
              "1555          0.832   0.550    -7.026  ...       0.24900    0.1820    0.881\n",
              "1556          0.448   0.603    -7.176  ...       0.43300    0.0862    0.422\n",
              "\n",
              "[1545 rows x 7 columns]"
            ]
          },
          "metadata": {},
          "execution_count": 412
        }
      ]
    },
    {
      "cell_type": "code",
      "metadata": {
        "colab": {
          "base_uri": "https://localhost:8080/",
          "height": 700
        },
        "id": "WhmD0ZjIuWGc",
        "outputId": "533ab652-f3d3-44a8-8468-bb7427a5fd49"
      },
      "source": [
        "f, ax = plt.subplots(figsize=(15, 12))\n",
        "mask = np.zeros_like(dataset.corr(), dtype=np.bool)\n",
        "mask[np.triu_indices_from(mask)] = True\n",
        "sns.heatmap(dataset.corr(), cmap='Greys', annot=True, mask=mask)\n",
        "plt.show()"
      ],
      "execution_count": null,
      "outputs": [
        {
          "output_type": "display_data",
          "data": {
            "image/png": "[encoded data removed]",
            "text/plain": [
              "<Figure size 1080x864 with 2 Axes>"
            ]
          },
          "metadata": {
            "needs_background": "light"
          }
        }
      ]
    },
    {
      "cell_type": "code",
      "metadata": {
        "colab": {
          "base_uri": "https://localhost:8080/",
          "height": 445
        },
        "id": "8bSdoxSdvIFm",
        "outputId": "fa3357c2-2f20-4c18-fa79-214cda7b7139"
      },
      "source": [
        "dataset['Valence'] = dataset['Valence'].apply(lambda x: 'sad' if x <= 0.333 else 'happy' if x > 0.666 else 'neutral')\n",
        "dataset"
      ],
      "execution_count": null,
      "outputs": [
        {
          "output_type": "execute_result",
          "data": {
            "text/html": [
              "<div>\n",
              "<style scoped>\n",
              "    .dataframe tbody tr th:only-of-type {\n",
              "        vertical-align: middle;\n",
              "    }\n",
              "\n",
              "    .dataframe tbody tr th {\n",
              "        vertical-align: top;\n",
              "    }\n",
              "\n",
              "    .dataframe thead th {\n",
              "        text-align: right;\n",
              "    }\n",
              "</style>\n",
              "<table border=\"1\" class=\"dataframe\">\n",
              "  <thead>\n",
              "    <tr style=\"text-align: right;\">\n",
              "      <th></th>\n",
              "      <th>Danceability</th>\n",
              "      <th>Energy</th>\n",
              "      <th>Loudness</th>\n",
              "      <th>Speechiness</th>\n",
              "      <th>Acousticness</th>\n",
              "      <th>Liveness</th>\n",
              "      <th>Valence</th>\n",
              "    </tr>\n",
              "    <tr>\n",
              "      <th>Index</th>\n",
              "      <th></th>\n",
              "      <th></th>\n",
              "      <th></th>\n",
              "      <th></th>\n",
              "      <th></th>\n",
              "      <th></th>\n",
              "      <th></th>\n",
              "    </tr>\n",
              "  </thead>\n",
              "  <tbody>\n",
              "    <tr>\n",
              "      <th>1</th>\n",
              "      <td>0.714</td>\n",
              "      <td>0.800</td>\n",
              "      <td>-4.808</td>\n",
              "      <td>0.0504</td>\n",
              "      <td>0.12700</td>\n",
              "      <td>0.3590</td>\n",
              "      <td>neutral</td>\n",
              "    </tr>\n",
              "    <tr>\n",
              "      <th>2</th>\n",
              "      <td>0.591</td>\n",
              "      <td>0.764</td>\n",
              "      <td>-5.484</td>\n",
              "      <td>0.0483</td>\n",
              "      <td>0.03830</td>\n",
              "      <td>0.1030</td>\n",
              "      <td>neutral</td>\n",
              "    </tr>\n",
              "    <tr>\n",
              "      <th>3</th>\n",
              "      <td>0.563</td>\n",
              "      <td>0.664</td>\n",
              "      <td>-5.044</td>\n",
              "      <td>0.1540</td>\n",
              "      <td>0.33500</td>\n",
              "      <td>0.0849</td>\n",
              "      <td>happy</td>\n",
              "    </tr>\n",
              "    <tr>\n",
              "      <th>4</th>\n",
              "      <td>0.808</td>\n",
              "      <td>0.897</td>\n",
              "      <td>-3.712</td>\n",
              "      <td>0.0348</td>\n",
              "      <td>0.04690</td>\n",
              "      <td>0.3640</td>\n",
              "      <td>neutral</td>\n",
              "    </tr>\n",
              "    <tr>\n",
              "      <th>5</th>\n",
              "      <td>0.736</td>\n",
              "      <td>0.704</td>\n",
              "      <td>-7.409</td>\n",
              "      <td>0.0615</td>\n",
              "      <td>0.02030</td>\n",
              "      <td>0.0501</td>\n",
              "      <td>happy</td>\n",
              "    </tr>\n",
              "    <tr>\n",
              "      <th>...</th>\n",
              "      <td>...</td>\n",
              "      <td>...</td>\n",
              "      <td>...</td>\n",
              "      <td>...</td>\n",
              "      <td>...</td>\n",
              "      <td>...</td>\n",
              "      <td>...</td>\n",
              "    </tr>\n",
              "    <tr>\n",
              "      <th>1552</th>\n",
              "      <td>0.762</td>\n",
              "      <td>0.700</td>\n",
              "      <td>-6.021</td>\n",
              "      <td>0.0694</td>\n",
              "      <td>0.00261</td>\n",
              "      <td>0.1530</td>\n",
              "      <td>neutral</td>\n",
              "    </tr>\n",
              "    <tr>\n",
              "      <th>1553</th>\n",
              "      <td>0.528</td>\n",
              "      <td>0.870</td>\n",
              "      <td>-3.123</td>\n",
              "      <td>0.0851</td>\n",
              "      <td>0.24000</td>\n",
              "      <td>0.3330</td>\n",
              "      <td>happy</td>\n",
              "    </tr>\n",
              "    <tr>\n",
              "      <th>1554</th>\n",
              "      <td>0.765</td>\n",
              "      <td>0.523</td>\n",
              "      <td>-4.333</td>\n",
              "      <td>0.0300</td>\n",
              "      <td>0.18400</td>\n",
              "      <td>0.1320</td>\n",
              "      <td>neutral</td>\n",
              "    </tr>\n",
              "    <tr>\n",
              "      <th>1555</th>\n",
              "      <td>0.832</td>\n",
              "      <td>0.550</td>\n",
              "      <td>-7.026</td>\n",
              "      <td>0.0587</td>\n",
              "      <td>0.24900</td>\n",
              "      <td>0.1820</td>\n",
              "      <td>happy</td>\n",
              "    </tr>\n",
              "    <tr>\n",
              "      <th>1556</th>\n",
              "      <td>0.448</td>\n",
              "      <td>0.603</td>\n",
              "      <td>-7.176</td>\n",
              "      <td>0.0640</td>\n",
              "      <td>0.43300</td>\n",
              "      <td>0.0862</td>\n",
              "      <td>neutral</td>\n",
              "    </tr>\n",
              "  </tbody>\n",
              "</table>\n",
              "<p>1545 rows × 7 columns</p>\n",
              "</div>"
            ],
            "text/plain": [
              "       Danceability  Energy  Loudness  ...  Acousticness  Liveness  Valence\n",
              "Index                                  ...                                 \n",
              "1             0.714   0.800    -4.808  ...       0.12700    0.3590  neutral\n",
              "2             0.591   0.764    -5.484  ...       0.03830    0.1030  neutral\n",
              "3             0.563   0.664    -5.044  ...       0.33500    0.0849    happy\n",
              "4             0.808   0.897    -3.712  ...       0.04690    0.3640  neutral\n",
              "5             0.736   0.704    -7.409  ...       0.02030    0.0501    happy\n",
              "...             ...     ...       ...  ...           ...       ...      ...\n",
              "1552          0.762   0.700    -6.021  ...       0.00261    0.1530  neutral\n",
              "1553          0.528   0.870    -3.123  ...       0.24000    0.3330    happy\n",
              "1554          0.765   0.523    -4.333  ...       0.18400    0.1320  neutral\n",
              "1555          0.832   0.550    -7.026  ...       0.24900    0.1820    happy\n",
              "1556          0.448   0.603    -7.176  ...       0.43300    0.0862  neutral\n",
              "\n",
              "[1545 rows x 7 columns]"
            ]
          },
          "metadata": {},
          "execution_count": 414
        }
      ]
    },
    {
      "cell_type": "code",
      "metadata": {
        "id": "PXvKMwx_wVVR"
      },
      "source": [
        "train = dataset.copy()\n",
        "X_train, X_test = train_test_split(train, test_size = 0.2, random_state = 42)\n",
        "\n",
        "encode = LabelEncoder()\n",
        "\n",
        "\n",
        "\n",
        "y_train = X_train.pop('Valence')\n",
        "y_test = X_test.pop('Valence')\n",
        "\n",
        "y_train = encode.fit_transform(y_train)\n",
        "y_test = encode.transform(y_test)\n",
        "\n",
        "X_train.reset_index(drop=True, inplace=True)\n",
        "X_test.reset_index(drop=True, inplace=True)"
      ],
      "execution_count": null,
      "outputs": []
    },
    {
      "cell_type": "code",
      "metadata": {
        "colab": {
          "base_uri": "https://localhost:8080/"
        },
        "id": "b10L974l1mgi",
        "outputId": "f96929b6-c2ad-415d-ac2a-ed2ffbb2c9ad"
      },
      "source": [
        "from sklearn.linear_model import Ridge\n",
        "np.random.seed(0)\n",
        "\n",
        "parameters = {'criterion':['gini'], 'min_samples_split': [2, 8], 'max_depth': [5, 10]}\n",
        "parameters = {'penalty':['l1', 'l2'], 'C': [1, 10]}\n",
        "\n",
        "param_grid = [\n",
        "    {'classifier': [RandomForestClassifier(n_estimators=100)],\n",
        "     'classifier__criterion': ['gini'],\n",
        "     'classifier__min_samples_split': [8],\n",
        "     'classifier__max_depth': [10, 20]},\n",
        "    {'classifier': [LogisticRegression(solver='liblinear')],\n",
        "     'classifier__penalty':['l1', 'l2'],\n",
        "     'classifier__C': [1, 10, 100] } ]\n",
        "\n",
        "pipe = pipe = Pipeline([('classifier', LogisticRegression())])\n",
        "\n",
        "grid = GridSearchCV(pipe, param_grid, cv=cv)\n",
        "grid.fit(X_train, y_train)"
      ],
      "execution_count": null,
      "outputs": [
        {
          "output_type": "execute_result",
          "data": {
            "text/plain": [
              "GridSearchCV(cv=StratifiedKFold(n_splits=5, random_state=42, shuffle=True),\n",
              "             error_score=nan,\n",
              "             estimator=Pipeline(memory=None,\n",
              "                                steps=[('classifier',\n",
              "                                        LogisticRegression(C=1.0,\n",
              "                                                           class_weight=None,\n",
              "                                                           dual=False,\n",
              "                                                           fit_intercept=True,\n",
              "                                                           intercept_scaling=1,\n",
              "                                                           l1_ratio=None,\n",
              "                                                           max_iter=100,\n",
              "                                                           multi_class='auto',\n",
              "                                                           n_jobs=None,\n",
              "                                                           penalty='l2',\n",
              "                                                           random_state=None,\n",
              "                                                           solver='lbfgs',\n",
              "                                                           tol=0.0001,\n",
              "                                                           v...\n",
              "                                                            class_weight=None,\n",
              "                                                            dual=False,\n",
              "                                                            fit_intercept=True,\n",
              "                                                            intercept_scaling=1,\n",
              "                                                            l1_ratio=None,\n",
              "                                                            max_iter=100,\n",
              "                                                            multi_class='auto',\n",
              "                                                            n_jobs=None,\n",
              "                                                            penalty='l2',\n",
              "                                                            random_state=None,\n",
              "                                                            solver='liblinear',\n",
              "                                                            tol=0.0001,\n",
              "                                                            verbose=0,\n",
              "                                                            warm_start=False)],\n",
              "                          'classifier__C': [1, 10, 100],\n",
              "                          'classifier__penalty': ['l1', 'l2']}],\n",
              "             pre_dispatch='2*n_jobs', refit=True, return_train_score=False,\n",
              "             scoring=None, verbose=0)"
            ]
          },
          "metadata": {},
          "execution_count": 517
        }
      ]
    },
    {
      "cell_type": "code",
      "metadata": {
        "colab": {
          "base_uri": "https://localhost:8080/"
        },
        "id": "YFMEPInr4L_G",
        "outputId": "c684d391-1986-4893-f5a5-6aab4c940250"
      },
      "source": [
        "print(\"score: {:.2f}\\n\".format(grid.score(X_test, y_test)))\n",
        "print(\"Parameter:\\n\\n{}\\n\".format(grid.best_params_))\n",
        "print(\"cross-validation score: {:.2f}\".format(grid.best_score_))"
      ],
      "execution_count": null,
      "outputs": [
        {
          "output_type": "stream",
          "text": [
            "score: 0.56\n",
            "\n",
            "Parameter:\n",
            "\n",
            "{'classifier': RandomForestClassifier(bootstrap=True, ccp_alpha=0.0, class_weight=None,\n",
            "                       criterion='gini', max_depth=20, max_features='auto',\n",
            "                       max_leaf_nodes=None, max_samples=None,\n",
            "                       min_impurity_decrease=0.0, min_impurity_split=None,\n",
            "                       min_samples_leaf=1, min_samples_split=8,\n",
            "                       min_weight_fraction_leaf=0.0, n_estimators=100,\n",
            "                       n_jobs=None, oob_score=False, random_state=None,\n",
            "                       verbose=0, warm_start=False), 'classifier__criterion': 'gini', 'classifier__max_depth': 20, 'classifier__min_samples_split': 8}\n",
            "\n",
            "cross-validation score: 0.56\n"
          ],
          "name": "stdout"
        }
      ]
    },
    {
      "cell_type": "code",
      "metadata": {
        "colab": {
          "base_uri": "https://localhost:8080/"
        },
        "id": "TZrnJcvzELur",
        "outputId": "4479219b-695a-4ae3-fc6d-80e54b01b2b8"
      },
      "source": [
        "y_pred = grid.predict(X_test)\n",
        "print(classification_report(y_test, y_pred))"
      ],
      "execution_count": null,
      "outputs": [
        {
          "output_type": "stream",
          "text": [
            "              precision    recall  f1-score   support\n",
            "\n",
            "           0       0.64      0.40      0.49        93\n",
            "           1       0.55      0.72      0.62       150\n",
            "           2       0.50      0.41      0.45        66\n",
            "\n",
            "    accuracy                           0.56       309\n",
            "   macro avg       0.56      0.51      0.52       309\n",
            "weighted avg       0.56      0.56      0.55       309\n",
            "\n"
          ],
          "name": "stdout"
        }
      ]
    },
    {
      "cell_type": "code",
      "metadata": {
        "colab": {
          "base_uri": "https://localhost:8080/"
        },
        "id": "NR8cqMicFxGL",
        "outputId": "a460d18b-d165-4a2d-9816-ba258d753499"
      },
      "source": [
        "cv = StratifiedKFold(n_splits=5, shuffle=True, random_state=42)\n",
        "cross = cross_validate(grid.best_estimator_, X_train, y_train, cv=cv, scoring=scorers)\n",
        "\n",
        "print('Mean of %s --> %f' %('test_accuracy_score' ,np.mean(cross['test_accuracy_score'])))\n",
        "print('Mean of %s --> %f' %('test_precision_score' ,np.mean(cross['test_precision_score'])))\n",
        "print('Mean of %s --> %f' %('test_recall_score' ,np.mean(cross['test_recall_score'])))\n",
        "print('Mean of %s --> %f' %('test_f1_score' ,np.mean(cross['test_f1_score'])))"
      ],
      "execution_count": null,
      "outputs": [
        {
          "output_type": "stream",
          "text": [
            "Mean of test_accuracy_score --> 0.545279\n",
            "Mean of test_precision_score --> 0.545279\n",
            "Mean of test_recall_score --> 0.545279\n",
            "Mean of test_f1_score --> 0.511557\n"
          ],
          "name": "stdout"
        }
      ]
    },
    {
      "cell_type": "markdown",
      "metadata": {
        "id": "Qnlw1O8qGClg"
      },
      "source": [
        "# Conclusion\n",
        "---\n",
        "\n",
        "In this notebook we already see some data exploration about Spotify dataset, here I use valence(vibe or nuance) as target because classify genre would be too common as music has so many variability and each song can belong to multiple genre, hence predicting nuance or vibe of a song might be interesting and may lead to new recommendation system for creating a set of playlist with similar nuance.\n",
        "\n",
        "---\n",
        "> Best Model for Spotify Nuance Multi-Classification Problem:\n",
        ">> Random Forest\n",
        "\n",
        "```\n",
        " precision    recall  f1-score   support\n",
        "\n",
        "           0       0.68      0.39      0.49        93\n",
        "           1       0.56      0.81      0.67       150\n",
        "           2       0.65      0.39      0.49        66\n",
        "\n",
        "    accuracy                           0.60       309\n",
        "   macro avg       0.63      0.53      0.55       309\n",
        "weighted avg       0.62      0.60      0.58       309\n",
        "```"
      ]
    },
    {
      "cell_type": "markdown",
      "metadata": {
        "id": "1vT3zw2JHpmD"
      },
      "source": [
        "**Difficulty**\n",
        "\n",
        "----\n",
        "> It seems doing a multiclass problem truly increasing the difficulty for classification problem, I believe this is caused by Valence's value range that has only 0 - 1.0,\n",
        ">\n",
        "> More bigger range needed to maintain distance between nuance of a song, since small range might to narrow.\n",
        "\n",
        "**Possible Solutions**\n",
        "\n",
        "---\n",
        "\n",
        "1.   Gather more data\n",
        "2.   Change into binary classification\n",
        "\n"
      ]
    }
  ]
}